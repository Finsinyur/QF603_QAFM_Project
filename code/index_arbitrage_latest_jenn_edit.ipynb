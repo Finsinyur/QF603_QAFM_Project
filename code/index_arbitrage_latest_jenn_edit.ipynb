{
 "cells": [
  {
   "cell_type": "code",
   "execution_count": 1,
   "id": "543e3687",
   "metadata": {
    "executionInfo": {
     "elapsed": 701,
     "status": "ok",
     "timestamp": 1686502011086,
     "user": {
      "displayName": "jennifer claudia gozal",
      "userId": "18064263931893212602"
     },
     "user_tz": -480
    },
    "id": "543e3687"
   },
   "outputs": [],
   "source": [
    "# Import basic libraries\n",
    "import pandas as pd\n",
    "import numpy as np\n",
    "import seaborn as sns\n",
    "import matplotlib.pyplot as plt"
   ]
  },
  {
   "cell_type": "markdown",
   "id": "9334a090",
   "metadata": {
    "id": "9334a090"
   },
   "source": [
    "## Price Volume data retrieval using Yahoo Finance API\n",
    "\n",
    "Target tickers:\n",
    "- S&P 500 Index (SPY)\n",
    "- VIX Index (^VIX)\n",
    "- Gold (GC=F)\n",
    "- Brent Crude (BZ=F)\n",
    "- WTI (CL=F)"
   ]
  },
  {
   "cell_type": "code",
   "execution_count": 2,
   "id": "cf6ba82e",
   "metadata": {
    "colab": {
     "base_uri": "https://localhost:8080/",
     "height": 357
    },
    "executionInfo": {
     "elapsed": 9175,
     "status": "ok",
     "timestamp": 1686502006707,
     "user": {
      "displayName": "jennifer claudia gozal",
      "userId": "18064263931893212602"
     },
     "user_tz": -480
    },
    "id": "cf6ba82e",
    "outputId": "de199bc5-c6e1-4bac-dd76-47af9b261288"
   },
   "outputs": [],
   "source": [
    "# !apt-get install -y build-essential\n",
    "# !apt-get install -y wget\n",
    "# !wget http://prdownloads.sourceforge.net/ta-lib/ta-lib-0.4.0-src.tar.gz\n",
    "# !tar -xzf ta-lib-0.4.0-src.tar.gz\n",
    "# %cd ta-lib/\n",
    "# !./configure --prefix=/usr\n",
    "# !make\n",
    "# !make install\n",
    "#!pip uninstall -y numpy\n",
    "#!pip install numpy == 1.20.3\n",
    "#!pip install TA-Lib\n",
    "\n",
    "import yfinance as yf\n",
    "import talib"
   ]
  },
  {
   "cell_type": "code",
   "execution_count": 3,
   "id": "71b0c75e",
   "metadata": {
    "executionInfo": {
     "elapsed": 499,
     "status": "ok",
     "timestamp": 1686502019626,
     "user": {
      "displayName": "jennifer claudia gozal",
      "userId": "18064263931893212602"
     },
     "user_tz": -480
    },
    "id": "71b0c75e"
   },
   "outputs": [],
   "source": [
    "# Create price extractor\n",
    "\n",
    "class price_volume_data:\n",
    "    \"\"\"A class for retrieving and analyzing price and volume data.\"\"\"\n",
    "    def __init__(self, tickers, start_date, end_date):\n",
    "        \"\"\"\n",
    "        Initializes a new instance of the price_volume_data class.\n",
    "\n",
    "        Args:\n",
    "            tickers (list): A list of tickers for the assets to retrieve data for.\n",
    "            start_date (str): The start date for the data retrieval (format: 'YYYY-MM-DD').\n",
    "            end_date (str): The end date for the data retrieval (format: 'YYYY-MM-DD').\n",
    "        \"\"\"\n",
    "        self.tickers = tickers\n",
    "        self.start_date = start_date\n",
    "        self.end_date = end_date\n",
    "        self.pv = self.__retrieve_data__()\n",
    "        #self.lp, self.ret = self.__get_daily_returns__() #didn't need daily returns\n",
    "        \n",
    "    def __retrieve_data__(self):\n",
    "        \"\"\"\n",
    "        Retrieves price and volume data for the given tickers from Yahoo Finance API.\n",
    "\n",
    "        Returns:\n",
    "            dict: A dictionary containing the price and volume data for each ticker.\n",
    "        \"\"\"\n",
    "\n",
    "        data, failed = {}, []\n",
    "        for ticker in self.tickers:\n",
    "            try:\n",
    "                df = yf.Ticker(ticker).history(start = self.start_date, end = self.end_date)\n",
    "                \n",
    "                data[ticker] = df\n",
    "                \n",
    "            except:\n",
    "                failed.append(ticker)\n",
    "                \n",
    "        if failed:\n",
    "            print('Tickers failed to extract: ', failed)\n",
    "        \n",
    "        return data\n",
    "    \n",
    "    def __get_daily_returns__(self):\n",
    "        \"\"\"\n",
    "        Computes daily returns for the retrieved price data.\n",
    "\n",
    "        Returns:\n",
    "            pd.DataFrame: A DataFrame containing the daily price data.\n",
    "            pd.DataFrame: A DataFrame containing the daily price returns.\n",
    "        \"\"\"\n",
    "        df = pd.DataFrame()\n",
    "        \n",
    "        for ticker in self.pv:\n",
    "            if df.empty:\n",
    "                df = pd.DataFrame(self.pv[ticker]['Close'].copy())\n",
    "            else:\n",
    "                df = df.merge(self.pv[ticker]['Close'], how='outer',left_index=True, right_index=True)\n",
    "\n",
    "        df.columns = self.tickers\n",
    "        df = df.fillna(method = 'ffill')\n",
    "        \n",
    "        return df, df/df.shift(1) - 1\n",
    "    \n",
    "    def get_info(self, ticker = None):\n",
    "        \"\"\"\n",
    "        Prints information about the price and volume data for the specified ticker.\n",
    "        If no ticker is provided, prints information for all tickers.\n",
    "\n",
    "        Args:\n",
    "            ticker (str, optional): The ticker symbol for the asset. Defaults to None.\n",
    "        \"\"\"\n",
    "        if ticker:\n",
    "            self.pv[ticker].info()\n",
    "        \n",
    "        else:\n",
    "            for ticker in self.pv:\n",
    "                self.pv[ticker].info()\n",
    "                \n",
    "        return None\n",
    "    \n",
    "    def plot_price_trends(self, normalize = True, reference = -1):\n",
    "        \"\"\"\n",
    "        Plots the close prices of selected assets over time.\n",
    "\n",
    "        Args:\n",
    "            normalize (bool, optional): Indicates whether to normalize the prices. Defaults to True.\n",
    "            reference (int, optional): Reference point for normalization. Defaults to -1.\n",
    "        \"\"\"\n",
    "        f, ax = plt.subplots(1,1,figsize=(12,5))\n",
    "        # plot prices\n",
    "        for key in self.pv:\n",
    "            last_price = self.pv[key].loc[:, 'Close'].copy()\n",
    "            if normalize:\n",
    "                if reference == -1:\n",
    "                    last_price /= last_price.iloc[0]\n",
    "                elif reference == 0:\n",
    "                    midpt = int(last_price.shape[0]/2)\n",
    "                    last_price /= last_price.iloc[midpt]\n",
    "                else:\n",
    "                    last_price /= last_price.iloc[-1]\n",
    "            last_price.plot(ax = ax, label = key)\n",
    "        \n",
    "        ax.title.set_text('Close Prices of selected assets')\n",
    "        ax.set(ylabel = 'Normalized Price to start of observation')\n",
    "        ax.legend()\n",
    "        plt.show()\n",
    "        \n",
    "    def plot_corr(self, method='pearson', output = False, series = 'price'):\n",
    "        \"\"\"\n",
    "        Plots the correlation matrix between asset prices or returns.\n",
    "\n",
    "        Args:\n",
    "            method (str, optional): The correlation method to use. Defaults to 'pearson'.\n",
    "            output (bool, optional): Indicates whether to return the correlation matrix. Defaults to False.\n",
    "            series (str, optional): Indicates whether to use 'price' or 'returns'. Defaults to 'price'.\n",
    "\n",
    "        Returns:\n",
    "            pd.DataFrame or None: The correlation matrix if output=True, None otherwise.\n",
    "        \"\"\"\n",
    "        corr_matrix = self.lp.corr(method) if series == 'price' else self.ret.corr(method)\n",
    "        mask = np.triu(np.ones_like(corr_matrix, dtype=bool))\n",
    "        \n",
    "        f, ax = plt.subplots(figsize=(5, 5))\n",
    "        sns.heatmap(corr_matrix, mask=mask, vmin=-1, vmax=1, annot=True)\n",
    "        \n",
    "        return corr_matrix if output else None\n",
    "        \n",
    "        \n",
    "    def get_technical_indicators(self, indicators = None, normalize = True):\n",
    "        \"\"\"\n",
    "        Computes and adds various technical indicators to the price data.\n",
    "\n",
    "        Args:\n",
    "            indicators (list, optional): A list of tuples specifying the indicators and their parameters.\n",
    "                Defaults to None.\n",
    "            normalize (bool, optional): Indicates whether to normalize the indicator values. Defaults to True.\n",
    "        \"\"\"\n",
    "        if not indicators:\n",
    "            indicators = [('SMA', 5), ('SMA', 14), ('ATR', 5), ('ATR', 14), ('ADX', 5),\n",
    "                         ('ADX', 14), ('RSI', 5), ('RSI', 14), ('MACD', None), ('BBANDS', None)]\n",
    "        \n",
    "        for data in self.pv:\n",
    "            df = self.pv[data]\n",
    "            for indicator, param in indicators:\n",
    "                \n",
    "                if indicator == 'SMA':\n",
    "                    df[f'{indicator}_{param}'] = talib.SMA(df['Close'], param)\n",
    "\n",
    "                elif indicator == 'ATR':\n",
    "                    df[f'{indicator}_{param}'] = talib.ATR(df['High'], df['Low'], df['Close'], param) \n",
    "                    \n",
    "                elif indicator == 'ADX':\n",
    "                    df[f'{indicator}_{param}'] = talib.ADX(df['High'], df['Low'], df['Close'], param) \n",
    "                    \n",
    "                elif indicator == 'RSI':\n",
    "                    df[f'{indicator}_{param}'] = talib.RSI(df['Close'], param) \n",
    "                    \n",
    "                elif indicator == 'MACD':\n",
    "                    df[f'{indicator}'], df[f'{indicator}_signal'], _ = talib.MACD(df['Close']) \n",
    "                    \n",
    "                    \n",
    "                elif indicator == 'BBANDS':\n",
    "                    df[f'{indicator}_upp'], df[f'{indicator}_mid'], df[f'{indicator}_low'] = talib.BBANDS(df['Close'])\n",
    "                    \n",
    "                    \n",
    "                else:\n",
    "                    print('Indicators not built into the class. Please run TALIB manually!')\n",
    "            \n",
    "            df = df.replace([np.inf, -np.inf], np.nan, inplace = True)\n",
    "            \n",
    "        return None              "
   ]
  },
  {
   "cell_type": "code",
   "execution_count": 4,
   "id": "dc4961ad",
   "metadata": {},
   "outputs": [
    {
     "ename": "AttributeError",
     "evalue": "module 'tensorflow.compat.v2' has no attribute '__internal__'",
     "output_type": "error",
     "traceback": [
      "\u001b[1;31m---------------------------------------------------------------------------\u001b[0m",
      "\u001b[1;31mAttributeError\u001b[0m                            Traceback (most recent call last)",
      "\u001b[1;32m~\\AppData\\Local\\Temp/ipykernel_30032/3402445432.py\u001b[0m in \u001b[0;36m<module>\u001b[1;34m\u001b[0m\n\u001b[0;32m      1\u001b[0m \u001b[1;32mfrom\u001b[0m \u001b[0mtensorflow\u001b[0m \u001b[1;32mimport\u001b[0m \u001b[0mkeras\u001b[0m\u001b[1;33m\u001b[0m\u001b[1;33m\u001b[0m\u001b[0m\n\u001b[1;32m----> 2\u001b[1;33m \u001b[1;32mfrom\u001b[0m \u001b[0mkeras\u001b[0m\u001b[1;33m.\u001b[0m\u001b[0mmodels\u001b[0m \u001b[1;32mimport\u001b[0m \u001b[0mSequential\u001b[0m\u001b[1;33m,\u001b[0m \u001b[0mModel\u001b[0m\u001b[1;33m\u001b[0m\u001b[1;33m\u001b[0m\u001b[0m\n\u001b[0m\u001b[0;32m      3\u001b[0m \u001b[1;32mfrom\u001b[0m \u001b[0mkeras\u001b[0m\u001b[1;33m.\u001b[0m\u001b[0mlayers\u001b[0m \u001b[1;32mimport\u001b[0m \u001b[0mDense\u001b[0m\u001b[1;33m,\u001b[0m \u001b[0mLSTM\u001b[0m\u001b[1;33m\u001b[0m\u001b[1;33m\u001b[0m\u001b[0m\n\u001b[0;32m      4\u001b[0m \u001b[1;32mfrom\u001b[0m \u001b[0mkeras\u001b[0m\u001b[1;33m.\u001b[0m\u001b[0mregularizers\u001b[0m \u001b[1;32mimport\u001b[0m \u001b[0mL1\u001b[0m\u001b[1;33m,\u001b[0m \u001b[0mL1L2\u001b[0m\u001b[1;33m,\u001b[0m \u001b[0mL2\u001b[0m\u001b[1;33m\u001b[0m\u001b[1;33m\u001b[0m\u001b[0m\n\u001b[0;32m      5\u001b[0m \u001b[1;32mfrom\u001b[0m \u001b[0mtensorflow\u001b[0m\u001b[1;33m.\u001b[0m\u001b[0mkeras\u001b[0m\u001b[1;33m.\u001b[0m\u001b[0moptimizers\u001b[0m \u001b[1;32mimport\u001b[0m \u001b[0mAdam\u001b[0m\u001b[1;33m,\u001b[0m \u001b[0mSGD\u001b[0m\u001b[1;33m\u001b[0m\u001b[1;33m\u001b[0m\u001b[0m\n",
      "\u001b[1;32m~\\anaconda3\\envs\\finsinyur\\lib\\site-packages\\keras\\__init__.py\u001b[0m in \u001b[0;36m<module>\u001b[1;34m\u001b[0m\n\u001b[0;32m     19\u001b[0m \"\"\"\n\u001b[0;32m     20\u001b[0m \u001b[1;32mfrom\u001b[0m \u001b[0mkeras\u001b[0m \u001b[1;32mimport\u001b[0m \u001b[0mdistribute\u001b[0m\u001b[1;33m\u001b[0m\u001b[1;33m\u001b[0m\u001b[0m\n\u001b[1;32m---> 21\u001b[1;33m \u001b[1;32mfrom\u001b[0m \u001b[0mkeras\u001b[0m \u001b[1;32mimport\u001b[0m \u001b[0mmodels\u001b[0m\u001b[1;33m\u001b[0m\u001b[1;33m\u001b[0m\u001b[0m\n\u001b[0m\u001b[0;32m     22\u001b[0m \u001b[1;32mfrom\u001b[0m \u001b[0mkeras\u001b[0m\u001b[1;33m.\u001b[0m\u001b[0mengine\u001b[0m\u001b[1;33m.\u001b[0m\u001b[0minput_layer\u001b[0m \u001b[1;32mimport\u001b[0m \u001b[0mInput\u001b[0m\u001b[1;33m\u001b[0m\u001b[1;33m\u001b[0m\u001b[0m\n\u001b[0;32m     23\u001b[0m \u001b[1;32mfrom\u001b[0m \u001b[0mkeras\u001b[0m\u001b[1;33m.\u001b[0m\u001b[0mengine\u001b[0m\u001b[1;33m.\u001b[0m\u001b[0msequential\u001b[0m \u001b[1;32mimport\u001b[0m \u001b[0mSequential\u001b[0m\u001b[1;33m\u001b[0m\u001b[1;33m\u001b[0m\u001b[0m\n",
      "\u001b[1;32m~\\anaconda3\\envs\\finsinyur\\lib\\site-packages\\keras\\models\\__init__.py\u001b[0m in \u001b[0;36m<module>\u001b[1;34m\u001b[0m\n\u001b[0;32m     16\u001b[0m \u001b[1;33m\u001b[0m\u001b[0m\n\u001b[0;32m     17\u001b[0m \u001b[1;33m\u001b[0m\u001b[0m\n\u001b[1;32m---> 18\u001b[1;33m \u001b[1;32mfrom\u001b[0m \u001b[0mkeras\u001b[0m\u001b[1;33m.\u001b[0m\u001b[0mengine\u001b[0m\u001b[1;33m.\u001b[0m\u001b[0mfunctional\u001b[0m \u001b[1;32mimport\u001b[0m \u001b[0mFunctional\u001b[0m\u001b[1;33m\u001b[0m\u001b[1;33m\u001b[0m\u001b[0m\n\u001b[0m\u001b[0;32m     19\u001b[0m \u001b[1;32mfrom\u001b[0m \u001b[0mkeras\u001b[0m\u001b[1;33m.\u001b[0m\u001b[0mengine\u001b[0m\u001b[1;33m.\u001b[0m\u001b[0msequential\u001b[0m \u001b[1;32mimport\u001b[0m \u001b[0mSequential\u001b[0m\u001b[1;33m\u001b[0m\u001b[1;33m\u001b[0m\u001b[0m\n\u001b[0;32m     20\u001b[0m \u001b[1;32mfrom\u001b[0m \u001b[0mkeras\u001b[0m\u001b[1;33m.\u001b[0m\u001b[0mengine\u001b[0m\u001b[1;33m.\u001b[0m\u001b[0mtraining\u001b[0m \u001b[1;32mimport\u001b[0m \u001b[0mModel\u001b[0m\u001b[1;33m\u001b[0m\u001b[1;33m\u001b[0m\u001b[0m\n",
      "\u001b[1;32m~\\anaconda3\\envs\\finsinyur\\lib\\site-packages\\keras\\engine\\functional.py\u001b[0m in \u001b[0;36m<module>\u001b[1;34m\u001b[0m\n\u001b[0;32m     24\u001b[0m \u001b[1;32mimport\u001b[0m \u001b[0mtensorflow\u001b[0m\u001b[1;33m.\u001b[0m\u001b[0mcompat\u001b[0m\u001b[1;33m.\u001b[0m\u001b[0mv2\u001b[0m \u001b[1;32mas\u001b[0m \u001b[0mtf\u001b[0m\u001b[1;33m\u001b[0m\u001b[1;33m\u001b[0m\u001b[0m\n\u001b[0;32m     25\u001b[0m \u001b[1;33m\u001b[0m\u001b[0m\n\u001b[1;32m---> 26\u001b[1;33m \u001b[1;32mfrom\u001b[0m \u001b[0mkeras\u001b[0m \u001b[1;32mimport\u001b[0m \u001b[0mbackend\u001b[0m\u001b[1;33m\u001b[0m\u001b[1;33m\u001b[0m\u001b[0m\n\u001b[0m\u001b[0;32m     27\u001b[0m \u001b[1;32mfrom\u001b[0m \u001b[0mkeras\u001b[0m\u001b[1;33m.\u001b[0m\u001b[0mdtensor\u001b[0m \u001b[1;32mimport\u001b[0m \u001b[0mlayout_map\u001b[0m \u001b[1;32mas\u001b[0m \u001b[0mlayout_map_lib\u001b[0m\u001b[1;33m\u001b[0m\u001b[1;33m\u001b[0m\u001b[0m\n\u001b[0;32m     28\u001b[0m \u001b[1;32mfrom\u001b[0m \u001b[0mkeras\u001b[0m\u001b[1;33m.\u001b[0m\u001b[0mengine\u001b[0m \u001b[1;32mimport\u001b[0m \u001b[0mbase_layer\u001b[0m\u001b[1;33m\u001b[0m\u001b[1;33m\u001b[0m\u001b[0m\n",
      "\u001b[1;32m~\\anaconda3\\envs\\finsinyur\\lib\\site-packages\\keras\\backend.py\u001b[0m in \u001b[0;36m<module>\u001b[1;34m\u001b[0m\n\u001b[0;32m     30\u001b[0m \u001b[1;32mimport\u001b[0m \u001b[0mtensorflow\u001b[0m\u001b[1;33m.\u001b[0m\u001b[0mcompat\u001b[0m\u001b[1;33m.\u001b[0m\u001b[0mv2\u001b[0m \u001b[1;32mas\u001b[0m \u001b[0mtf\u001b[0m\u001b[1;33m\u001b[0m\u001b[1;33m\u001b[0m\u001b[0m\n\u001b[0;32m     31\u001b[0m \u001b[1;33m\u001b[0m\u001b[0m\n\u001b[1;32m---> 32\u001b[1;33m \u001b[1;32mfrom\u001b[0m \u001b[0mkeras\u001b[0m \u001b[1;32mimport\u001b[0m \u001b[0mbackend_config\u001b[0m\u001b[1;33m\u001b[0m\u001b[1;33m\u001b[0m\u001b[0m\n\u001b[0m\u001b[0;32m     33\u001b[0m \u001b[1;32mfrom\u001b[0m \u001b[0mkeras\u001b[0m\u001b[1;33m.\u001b[0m\u001b[0mdistribute\u001b[0m \u001b[1;32mimport\u001b[0m \u001b[0mdistribute_coordinator_utils\u001b[0m \u001b[1;32mas\u001b[0m \u001b[0mdc\u001b[0m\u001b[1;33m\u001b[0m\u001b[1;33m\u001b[0m\u001b[0m\n\u001b[0;32m     34\u001b[0m \u001b[1;32mfrom\u001b[0m \u001b[0mkeras\u001b[0m\u001b[1;33m.\u001b[0m\u001b[0mengine\u001b[0m \u001b[1;32mimport\u001b[0m \u001b[0mkeras_tensor\u001b[0m\u001b[1;33m\u001b[0m\u001b[1;33m\u001b[0m\u001b[0m\n",
      "\u001b[1;32m~\\anaconda3\\envs\\finsinyur\\lib\\site-packages\\keras\\backend_config.py\u001b[0m in \u001b[0;36m<module>\u001b[1;34m\u001b[0m\n\u001b[0;32m     31\u001b[0m \u001b[1;33m\u001b[0m\u001b[0m\n\u001b[0;32m     32\u001b[0m \u001b[1;33m@\u001b[0m\u001b[0mkeras_export\u001b[0m\u001b[1;33m(\u001b[0m\u001b[1;34m\"keras.backend.epsilon\"\u001b[0m\u001b[1;33m)\u001b[0m\u001b[1;33m\u001b[0m\u001b[1;33m\u001b[0m\u001b[0m\n\u001b[1;32m---> 33\u001b[1;33m \u001b[1;33m@\u001b[0m\u001b[0mtf\u001b[0m\u001b[1;33m.\u001b[0m\u001b[0m__internal__\u001b[0m\u001b[1;33m.\u001b[0m\u001b[0mdispatch\u001b[0m\u001b[1;33m.\u001b[0m\u001b[0madd_dispatch_support\u001b[0m\u001b[1;33m\u001b[0m\u001b[1;33m\u001b[0m\u001b[0m\n\u001b[0m\u001b[0;32m     34\u001b[0m \u001b[1;32mdef\u001b[0m \u001b[0mepsilon\u001b[0m\u001b[1;33m(\u001b[0m\u001b[1;33m)\u001b[0m\u001b[1;33m:\u001b[0m\u001b[1;33m\u001b[0m\u001b[1;33m\u001b[0m\u001b[0m\n\u001b[0;32m     35\u001b[0m     \"\"\"Returns the value of the fuzz factor used in numeric expressions.\n",
      "\u001b[1;31mAttributeError\u001b[0m: module 'tensorflow.compat.v2' has no attribute '__internal__'"
     ]
    }
   ],
   "source": [
    "from tensorflow import keras\n",
    "from keras.models import Sequential, Model\n",
    "from keras.layers import Dense, LSTM\n",
    "from keras.regularizers import L1, L1L2, L2\n",
    "from tensorflow.keras.optimizers import Adam, SGD\n",
    "from sklearn.model_selection import train_test_split, TimeSeriesSplit, cross_val_score\n",
    "\n",
    "from sklearn.metrics import mean_squared_error, mean_absolute_error, explained_variance_score\n",
    "\n",
    "import numpy as np\n",
    "import tensorflow as tf\n",
    "import random as python_random\n",
    "\n",
    "import pandas as pd\n",
    "import seaborn as sns\n",
    "import matplotlib.pyplot as plt\n",
    "\n",
    "import os\n",
    "\n",
    "def reset_seeds(SEED = 624):\n",
    "    np.random.seed(SEED) \n",
    "    python_random.seed(SEED)\n",
    "    tf.random.set_seed(SEED)\n",
    "    os.environ[\"PYTHONHASHSEED\"] = str(SEED)\n",
    "\n",
    "tf.config.experimental.enable_op_determinism()"
   ]
  },
  {
   "cell_type": "code",
   "execution_count": null,
   "id": "0a065469",
   "metadata": {},
   "outputs": [],
   "source": [
    "class LSTM_predictor:\n",
    "    \"\"\"A class for predicting time series using LSTM (Long Short-Term Memory) models.\"\"\"\n",
    "    def __init__(self, X, Y):\n",
    "        \"\"\"\n",
    "        Initializes a new instance of the LSTM_predictor class.\n",
    "\n",
    "        Args:\n",
    "            X (ndarray): The input feature matrix.\n",
    "            Y (ndarray): The target values.\n",
    "        \"\"\"\n",
    "        self.X, self.Y = self.__clean_data__(X, Y)\n",
    "        self.features_size = X.shape[1]\n",
    "        self.obs_size = X.shape[0]\n",
    "        \n",
    "        \n",
    "    def __clean_data__(self, X, Y):\n",
    "        \"\"\"\n",
    "        Cleans the input feature matrix and target values by removing rows with NaN values.\n",
    "\n",
    "        Args:\n",
    "            X (ndarray): The input feature matrix.\n",
    "            Y (ndarray): The target values.\n",
    "\n",
    "        Returns:\n",
    "            ndarray: The cleaned input feature matrix.\n",
    "            ndarray: The cleaned target values.\n",
    "        \"\"\"\n",
    "        Z = np.concatenate((X, Y), axis = 1)\n",
    "        Z = Z[~np.isnan(Z).any(axis=1), :]\n",
    "        return Z[:, :-1], Z[:, -1]\n",
    "        \n",
    "    def prepare_data(self, train_test_split = 0.8, timestep = 3, look_forward = 1, inplace = False, scaled = True):\n",
    "        \"\"\"\n",
    "        Prepares the data for training and testing the LSTM model.\n",
    "\n",
    "        Args:\n",
    "            train_test_split (float, optional): The fraction of data to be used for training.\n",
    "                Defaults to 0.8.\n",
    "            timestep (int, optional): The number of time steps to consider for each sample.\n",
    "                Defaults to 3.\n",
    "            inplace (bool, optional): Indicates whether to store the prepared data in the class\n",
    "                instance or return it. Defaults to False.\n",
    "            scaled (bool, optional): Indicates whether to scale the data. Defaults to True.\n",
    "\n",
    "        Returns:\n",
    "            tuple or None: If inplace=True, returns None. Otherwise, returns a tuple containing\n",
    "            the prepared training and testing data as (X_train, Y_train, X_test, Y_test).\n",
    "        \"\"\"\n",
    "        split_idx = int(self.obs_size*0.8)\n",
    "        train_set = self.X[:-4,:], self.Y[:-4]\n",
    "        test_set = self.X[-4,:], self.Y[-4]\n",
    "        \n",
    "        # Scale factors\n",
    "        mean_X = np.mean(train_set[0], axis = 0)\n",
    "        std_X = np.std(train_set[0], axis = 0)\n",
    "        self.__scale_X__ = (mean_X, std_X)\n",
    "        \n",
    "        mean_Y = np.mean(train_set[1], axis = 0)\n",
    "        std_Y = np.std(train_set[1], axis = 0)\n",
    "        self.__scale_Y__ = (mean_Y, std_Y)\n",
    "        \n",
    "        sampled = []\n",
    "        \n",
    "        for X, Y in [train_set, test_set]:\n",
    "            X_sampled, Y_sampled = [], []\n",
    "\n",
    "            for i in range(len(X)-timestep-look_forward+1):\n",
    "                X_sampled.append((X[i:i+timestep] - self.__scale_X__[0])/self.__scale_X__[1])\n",
    "                Y_sampled.append((Y[i+timestep+look_forward-1] - self.__scale_Y__[0])/self.__scale_Y__[1])\n",
    "            \n",
    "            sampled.append((np.array(X_sampled),np.array(Y_sampled)))\n",
    "        \n",
    "        if inplace:\n",
    "            self.X_train, self.Y_train = sampled[0]\n",
    "            self.X_test, self.Y_test = test_set\n",
    "            print(\"x_train after prepare_data has shape of {}\".format(self.X_train.shape))\n",
    "            print(\"x_test after prepare_data has shape of {}\".format(self.X_test.shape))\n",
    "            \n",
    "            return None\n",
    "        else:\n",
    "            return sampled\n",
    "        \n",
    "    def init_model(self, optimizer='adam', loss='mean_squared_error', kernel_regularizer=None, num_lstm_units = 64, num_lstm_units_2 = 64,num_dense_units = 25, learning_rate=0.001):\n",
    "        \"\"\"\n",
    "        Initializes the LSTM model with the specified optimizer and loss function.\n",
    "\n",
    "        Args:\n",
    "            optimizer (str, optional): The optimizer to use. Defaults to 'adam'.\n",
    "            loss (str, optional): The loss function to use. Defaults to 'mean_squared_error'.\n",
    "        \"\"\"\n",
    "        reset_seeds()\n",
    "        model = Sequential()\n",
    "        model.add(LSTM(num_lstm_units, return_sequences=True,\\\n",
    "                       input_shape= (self.X_train.shape[1], self.features_size),\\\n",
    "                      kernel_regularizer=kernel_regularizer, activation = 'relu')) #added activation = \"relu\"\n",
    "        model.add(LSTM(num_lstm_units_2, return_sequences=False, kernel_regularizer=kernel_regularizer, activation = 'relu'))\n",
    "        model.add(Dense(num_dense_units))\n",
    "        model.add(Dense(1))\n",
    "        \n",
    "        \n",
    "        #opt = Adam(learning_rate=learning_rate) #to remove and default to the code directly below\n",
    "        \n",
    "        #if optimizer == 'adam':\n",
    "            #opt = Adam(learning_rate=learning_rate)\n",
    "        #elif optimizer == 'SGD':\n",
    "            #opt = SGD(learning_rate=learning_rate)\n",
    "        #else:\n",
    "            #raise ValueError(f\"Unsupported optimizer: {optimizer}\")\n",
    "        \n",
    "        model.compile(optimizer = optimizer, loss = loss) # changed optimizer = optimizer to optimizer = opt\n",
    "        self.model = model\n",
    "        \n",
    "        return None\n",
    "    \n",
    "    def fit_model_train(self, batch_size=100, epochs=50, callbacks=None):\n",
    "        \"\"\"\n",
    "        Trains the LSTM model.\n",
    "\n",
    "        Args:\n",
    "            batch_size (int, optional): The batch size for training. \n",
    "            epochs (int, optional): The number of epochs to train for. \n",
    "        \"\"\"\n",
    "        self.test_loss_list = []\n",
    "        self.pred_per_epoch = []\n",
    "        history_train = self.model.fit(self.X_train, self.Y_train, epochs=epochs, batch_size=batch_size, verbose=1, callbacks = callbacks)\n",
    "        self.train_loss_list = history_train.history['loss']  # Store loss values in the list \n",
    "       \n",
    "        \n",
    "    def predict(self):\n",
    "        \"\"\"Makes predictions using the trained LSTM model.\"\"\"\n",
    "        self.Y_pred = self.model.predict(self.X[-4,:])\n",
    "        #mse = mean_squared_error(self.Y_test, self.Y_pred)\n",
    "        #mse_list.append(mse)\n",
    "        \n",
    "    def plot_prediction(self, epoch = None):\n",
    "        \"\"\"Plots the predicted and actual values.\"\"\"\n",
    "        if epoch == None:\n",
    "            Y_pred = self.Y_pred\n",
    "        else:\n",
    "            Y_pred = self.pred_per_epoch[epoch - 1]\n",
    "        actual = np.concatenate((self.Y_train.reshape(-1,1), self.Y_test.reshape(-1,1)))\n",
    "        actual = actual*self.__scale_Y__[1] + self.__scale_Y__[0]\n",
    "        prediction = np.concatenate((self.Y_train.reshape(-1,1), Y_pred))\n",
    "        prediction = prediction*self.__scale_Y__[1] + self.__scale_Y__[0]\n",
    "        \n",
    "        f, ax = plt.subplots(figsize=(12,5))\n",
    "        plt.plot(prediction, label = 'Predicted')\n",
    "        plt.plot(actual, label = 'Actual')\n",
    "        \n",
    "        ax.title.set_text('Close Prices of selected assets')\n",
    "        ax.set(ylabel = 'Normalized Price to start of observation')\n",
    "        ax.legend()\n",
    "        plt.show()\n",
    "        \n",
    "    def key_metrics(self,epoch=None):\n",
    "        Y_pred = self.Y_pred if epoch == None else self.pred_per_epoch[epoch-1]\n",
    "        mse = mean_squared_error(self.X[-1,:], Y_pred)\n",
    "        mae = mean_absolute_error(self.Y[-1], Y_pred)\n",
    "        exp_ratio = explained_variance_score(self.Y_test, Y_pred)\n",
    "        \n",
    "        return (Y_pred[-1]*self.__scale_Y__[1] + self.__scale_Y__[0]), mse, mae, exp_ratio \n",
    "    \n",
    "    def cross_validation(self, n_splits = 5, batch_size=100, epochs=10, callback=True):\n",
    "        \"\"\"\n",
    "        Perform cross-validation for the LSTM model.\n",
    "\n",
    "        Parameters:\n",
    "        - n_splits: Number of cross-validation splits (int, default=5)\n",
    "        - batch_size: Number of samples per gradient update (int, default=100)\n",
    "        - epochs: Number of epochs to train the model (int, default=50)\n",
    "        - callback: Flag indicating whether to use custom callback during training (bool, default=True)\n",
    "\n",
    "        Returns:\n",
    "        - None\n",
    "        \"\"\"\n",
    "        reset_seeds()\n",
    "        tscv = TimeSeriesSplit(n_splits=5)\n",
    "        \n",
    "        cv_train_scores = []\n",
    "        cv_val_scores = []\n",
    "        \n",
    "        print('Initiate cross-validation')\n",
    "        i = 1\n",
    "\n",
    "        for train_index, test_index in tscv.split(self.X_train):\n",
    "            print(f'Running cross validation round {i}')\n",
    "            self.temp_val_scores = []\n",
    "\n",
    "            #print(self.X_train[train_index].shape)\n",
    "            #print(self.X_train[test_index].shape)\n",
    "            \n",
    "            cv_X_train, cv_X_test = self.X_train[train_index], self.X_train[test_index]\n",
    "            cv_y_train, cv_y_test = self.Y_train[train_index], self.Y_train[test_index]\n",
    "            \n",
    "            #print(cv_X_test.shape)\n",
    "    \n",
    "            # Fit your model on the training data\n",
    "            history_train = self.model.fit(cv_X_train, cv_y_train, batch_size=batch_size,\\\n",
    "                                           epochs=epochs,\\\n",
    "                                           callbacks = [CustomCallback(self,cv_X_test, cv_y_test, cv = True)],\n",
    "                                          verbose = 2)\n",
    "            cv_train_scores.append(history_train.history['loss'])\n",
    "            cv_val_scores.append(self.temp_val_scores)\n",
    "            print('==============================================')\n",
    "            i+=1\n",
    "            \n",
    "        self.cv_train_scores = np.array(cv_train_scores).mean(axis = 0)\n",
    "        self.cv_val_scores = np.array(cv_val_scores).mean(axis = 0)\n",
    "\n",
    "class CustomCallback(keras.callbacks.Callback):\n",
    "    \"\"\"\n",
    "    CustomCallback class for defining custom callbacks during model training.\n",
    "    \"\"\"\n",
    "    def __init__(self, model_class, X_test = np.empty(0), Y_test = np.empty(0), cv = False):\n",
    "        \"\"\"\n",
    "        Initialize the CustomCallback object.\n",
    "\n",
    "        Parameters:\n",
    "        - model_class: Instance of the LSTM_predictor class\n",
    "        - X_test: Test input features (numpy array, default=np.empty(0))\n",
    "        - Y_test: Test target variable (numpy array, default=np.empty(0))\n",
    "        - cv: Flag indicating whether it is a cross-validation callback (bool, default=False)\n",
    "        \"\"\"\n",
    "        self.mega_class = model_class\n",
    "        self.model = model_class.model\n",
    "        #print(X_test.shape)\n",
    "        self.X_test = X_test if X_test.any() else model_class.X_test\n",
    "        self.Y_test = Y_test if Y_test.any() else model_class.Y_test\n",
    "        self.cv = cv\n",
    "\n",
    "    def on_epoch_end(self, epoch, logs={}):\n",
    "        \"\"\"\n",
    "        Callback function called at the end of each epoch during model training.\n",
    "\n",
    "        Parameters:\n",
    "        - epoch: Current epoch number (int)\n",
    "        - logs: Dictionary of logs and metrics (dict)\n",
    "        \"\"\"\n",
    "        self.Y_pred = self.model.predict(self.X_test, verbose = 0)\n",
    "        #print(self.X_test.shape)\n",
    "        #print(self.Y_test[:5])\n",
    "        print(\"Y_pred shape is {}\".format(self.Y_pred.shape))\n",
    "        mse = mean_squared_error(self.Y_test, self.Y_pred)\n",
    "        if self.cv:\n",
    "            self.mega_class.temp_val_scores.append(mse)\n",
    "        else:\n",
    "            self.mega_class.test_loss_list.append(mse)\n",
    "            self.mega_class.pred_per_epoch.append(self.Y_pred)\n",
    "        \n",
    "        \n",
    "\n",
    "\"\"\"class CustomCallback(keras.callbacks.Callback):\n",
    "    def __init__(self, model_class):\n",
    "        self.mega_class = model_class\n",
    "        self.model = model_class.model\n",
    "        self.X_test = model_class.X_test\n",
    "        self.Y_test = model_class.Y_test\n",
    "\n",
    "    def on_epoch_end(self, epoch, logs={}):\n",
    "        self.Y_pred = self.model.predict(self.X_test)\n",
    "        mse = mean_squared_error(self.Y_test, self.Y_pred)\n",
    "        self.mega_class.test_loss_list.append(mse)\n",
    "        self.mega_class.pred_per_epoch.append(self.Y_pred)\"\"\""
   ]
  },
  {
   "cell_type": "code",
   "execution_count": 6,
   "id": "216815ad",
   "metadata": {
    "scrolled": false
   },
   "outputs": [],
   "source": [
    "sheet_name = ['20220524','20220823','20221122','20230221','20230523']\n",
    "symbols = pd.read_excel(\"../output/target_stock_universe.xlsx\", sheet_name = sheet_name[0]) # change here to get the other sheet\n",
    "symbols['Ticker_Symbol'] = symbols['Ticker'].str.split().str[0]+\".L\"\n",
    "symbols = symbols[symbols['Ticker_Symbol']!='HSV.L']\n",
    "symbols = symbols[symbols['Ticker_Symbol']!='HBR.L']\n",
    "\n",
    "\n",
    "symbols_short = symbols['Ticker_Symbol'].iloc[10:] # change here to get the full list of stock\n",
    "data = price_volume_data(symbols_short.to_list(), '2017-05-25', '2022-05-31')\n",
    "data.get_technical_indicators()\n",
    "technical_indicators = ['Close', 'Volume', 'SMA_5', 'SMA_14', 'ATR_5', 'ATR_14', 'ADX_5', 'ADX_14', 'RSI_5',\n",
    "       'RSI_14', 'MACD', 'MACD_signal', 'BBANDS_upp', 'BBANDS_mid', 'BBANDS_low']"
   ]
  },
  {
   "cell_type": "code",
   "execution_count": 7,
   "id": "3e9b6965",
   "metadata": {},
   "outputs": [],
   "source": [
    "def get_technicals(technical_indicators, symbols_short, data):\n",
    "    results = {}\n",
    "    Y = {}\n",
    "    X = {}\n",
    "    for x in range(len(symbols_short)):\n",
    "        results[x] = data.pv[f'{symbols_short.iloc[x]}']\n",
    "        Y[x] = np.array(results[x]['Close']).reshape(-1,1)\n",
    "        X[x] = np.array(results[x][technical_indicators])\n",
    "    return results, Y, X"
   ]
  },
  {
   "cell_type": "code",
   "execution_count": 8,
   "id": "7ac98140",
   "metadata": {},
   "outputs": [],
   "source": [
    "def run_LSTM(X,Y):\n",
    "    results = {}\n",
    "    for x in range(len(symbols_short)):\n",
    "        model1 = LSTM_predictor(X[x], Y[x])\n",
    "        model1.prepare_data(train_test_split = 0.8, timestep = 30, look_forward = 3, inplace = True)\n",
    "        model1.init_model(optimizer='adam', loss='mean_squared_error')\n",
    "        model1.cross_validation()\n",
    "        model1.fit_model_train(epochs=30,batch_size=32)\n",
    "        #model1.fit_model_train(epochs=30,batch_size=32,callbacks=[CustomCallback(model1)])\n",
    "        model1.predict()\n",
    "        model1.key_metrics()\n",
    "        model1.plot_prediction()\n",
    "        results[x] = model1.key_metrics()\n",
    "    return results\n",
    "    "
   ]
  },
  {
   "cell_type": "code",
   "execution_count": 9,
   "id": "049ff69a",
   "metadata": {
    "scrolled": true
   },
   "outputs": [],
   "source": [
    "results, Y, X = get_technicals(technical_indicators, symbols_short, data)"
   ]
  },
  {
   "cell_type": "code",
   "execution_count": 10,
   "id": "6576e863",
   "metadata": {},
   "outputs": [
    {
     "data": {
      "text/plain": [
       "{0: array([[322.63446045],\n",
       "        [328.12503052],\n",
       "        [325.7718811 ],\n",
       "        ...,\n",
       "        [413.82745361],\n",
       "        [425.50585938],\n",
       "        [433.47277832]]),\n",
       " 1: array([[143.1204071 ],\n",
       "        [142.98141479],\n",
       "        [141.24363708],\n",
       "        ...,\n",
       "        [ 76.01734924],\n",
       "        [ 74.19231415],\n",
       "        [ 74.38442993]]),\n",
       " 2: array([[274.88912964],\n",
       "        [278.00698853],\n",
       "        [281.47119141],\n",
       "        ...,\n",
       "        [210.64622498],\n",
       "        [207.9256897 ],\n",
       "        [212.97807312]]),\n",
       " 3: array([[ 528.45831299],\n",
       "        [ 534.33007812],\n",
       "        [ 528.03900146],\n",
       "        ...,\n",
       "        [1066.5826416 ],\n",
       "        [1076.13134766],\n",
       "        [1094.27380371]]),\n",
       " 4: array([[2538.95361328],\n",
       "        [2545.53393555],\n",
       "        [2611.33105469],\n",
       "        ...,\n",
       "        [2117.06494141],\n",
       "        [1974.12084961],\n",
       "        [1990.93774414]]),\n",
       " 5: array([[1640.73413086],\n",
       "        [1621.66577148],\n",
       "        [1621.66577148],\n",
       "        ...,\n",
       "        [1512.0447998 ],\n",
       "        [1529.53625488],\n",
       "        [1567.92041016]]),\n",
       " 6: array([[109.85520935],\n",
       "        [109.62995148],\n",
       "        [109.17938995],\n",
       "        ...,\n",
       "        [188.74330139],\n",
       "        [187.82081604],\n",
       "        [188.92781067]]),\n",
       " 7: array([[1206.9395752 ],\n",
       "        [1239.26843262],\n",
       "        [1244.65649414],\n",
       "        ...,\n",
       "        [ 524.59997559],\n",
       "        [ 532.        ],\n",
       "        [ 535.20001221]]),\n",
       " 8: array([[1001.02655029],\n",
       "        [1000.21844482],\n",
       "        [1005.87390137],\n",
       "        ...,\n",
       "        [1308.95141602],\n",
       "        [1333.35388184],\n",
       "        [1383.13500977]]),\n",
       " 9: array([[2368.4597168 ],\n",
       "        [2351.54272461],\n",
       "        [2348.15917969],\n",
       "        ...,\n",
       "        [2867.64111328],\n",
       "        [2886.74609375],\n",
       "        [2879.10424805]]),\n",
       " 10: array([[10311.96679688],\n",
       "        [10224.0546875 ],\n",
       "        [10276.80273438],\n",
       "        ...,\n",
       "        [ 1887.5       ],\n",
       "        [ 1879.        ],\n",
       "        [ 1970.5       ]]),\n",
       " 11: array([[2070.1237793 ],\n",
       "        [2091.23901367],\n",
       "        [2109.91796875],\n",
       "        ...,\n",
       "        [2888.1496582 ],\n",
       "        [2946.37841797],\n",
       "        [2927.93920898]]),\n",
       " 12: array([[1041.35717773],\n",
       "        [1039.64440918],\n",
       "        [1037.9317627 ],\n",
       "        ...,\n",
       "        [ 909.61346436],\n",
       "        [ 920.98120117],\n",
       "        [ 904.02593994]]),\n",
       " 13: array([[236.37727356],\n",
       "        [237.46598816],\n",
       "        [235.01646423],\n",
       "        ...,\n",
       "        [247.17993164],\n",
       "        [250.94407654],\n",
       "        [250.36497498]]),\n",
       " 14: array([[111.34334564],\n",
       "        [111.69908905],\n",
       "        [111.77024078],\n",
       "        ...,\n",
       "        [238.26774597],\n",
       "        [238.73075867],\n",
       "        [240.39761353]]),\n",
       " 15: array([[ 997.56970215],\n",
       "        [1002.07141113],\n",
       "        [1012.87536621],\n",
       "        ...,\n",
       "        [2491.13867188],\n",
       "        [2524.48461914],\n",
       "        [2553.9074707 ]]),\n",
       " 16: array([[352.68753052],\n",
       "        [352.37463379],\n",
       "        [350.49697876],\n",
       "        ...,\n",
       "        [649.5       ],\n",
       "        [652.19873047],\n",
       "        [652.19873047]]),\n",
       " 17: array([[1946.],\n",
       "        [2204.],\n",
       "        [2285.],\n",
       "        ...,\n",
       "        [3034.],\n",
       "        [2993.],\n",
       "        [3094.]]),\n",
       " 18: array([[295.8999939 ],\n",
       "        [297.29998779],\n",
       "        [300.        ],\n",
       "        ...,\n",
       "        [672.        ],\n",
       "        [689.5       ],\n",
       "        [695.        ]]),\n",
       " 19: array([[631.06738281],\n",
       "        [598.31567383],\n",
       "        [584.73571777],\n",
       "        ...,\n",
       "        [733.06976318],\n",
       "        [724.43414307],\n",
       "        [722.51507568]]),\n",
       " 20: array([[412.8480835 ],\n",
       "        [414.45657349],\n",
       "        [413.56298828],\n",
       "        ...,\n",
       "        [468.20401001],\n",
       "        [476.61721802],\n",
       "        [473.09539795]]),\n",
       " 21: array([[791.05786133],\n",
       "        [812.13537598],\n",
       "        [804.39251709],\n",
       "        ...,\n",
       "        [924.57818604],\n",
       "        [905.76416016],\n",
       "        [921.89050293]]),\n",
       " 22: array([[3344.02026367],\n",
       "        [3365.30834961],\n",
       "        [3382.89428711],\n",
       "        ...,\n",
       "        [3821.14624023],\n",
       "        [3844.6730957 ],\n",
       "        [4005.43969727]])}"
      ]
     },
     "execution_count": 10,
     "metadata": {},
     "output_type": "execute_result"
    }
   ],
   "source": [
    "Y"
   ]
  },
  {
   "cell_type": "code",
   "execution_count": 75,
   "id": "a8946310",
   "metadata": {},
   "outputs": [
    {
     "data": {
      "text/plain": [
       "(1268, 1)"
      ]
     },
     "execution_count": 75,
     "metadata": {},
     "output_type": "execute_result"
    }
   ],
   "source": [
    "Y[0].shape"
   ]
  },
  {
   "cell_type": "code",
   "execution_count": 76,
   "id": "4d9a2277",
   "metadata": {},
   "outputs": [
    {
     "data": {
      "text/plain": [
       "(1268, 15)"
      ]
     },
     "execution_count": 76,
     "metadata": {},
     "output_type": "execute_result"
    }
   ],
   "source": [
    "X[0].shape"
   ]
  },
  {
   "cell_type": "markdown",
   "id": "a7720f39",
   "metadata": {},
   "source": [
    "results"
   ]
  },
  {
   "cell_type": "markdown",
   "id": "9df4d1b9",
   "metadata": {},
   "source": [
    "model1 = LSTM_predictor(X1, Y1)\n",
    "model1.prepare_data(train_test_split = 0.8, timestep = 30, look_forward = 3, inplace = True)\n",
    "model1.init_model(optimizer='adam', loss='mean_squared_error')\n",
    "model1.cross_validation()"
   ]
  },
  {
   "cell_type": "code",
   "execution_count": 77,
   "id": "90a0e0cb",
   "metadata": {},
   "outputs": [
    {
     "name": "stdout",
     "output_type": "stream",
     "text": [
      "x_train after prepare_data has shape of (1199, 30, 15)\n",
      "x_test after prepare_data has shape of (15,)\n",
      "Initiate cross-validation\n",
      "Running cross validation round 1\n",
      "Epoch 1/10\n"
     ]
    },
    {
     "name": "stderr",
     "output_type": "stream",
     "text": [
      "2023-10-10 00:34:26.191634: I tensorflow/core/common_runtime/executor.cc:1210] [/device:CPU:0] (DEBUG INFO) Executor start aborting (this does not indicate an error and you can ignore this message): INVALID_ARGUMENT: You must feed a value for placeholder tensor 'Placeholder/_11' with dtype float and shape [204]\n",
      "\t [[{{node Placeholder/_11}}]]\n",
      "2023-10-10 00:34:26.191843: I tensorflow/core/common_runtime/executor.cc:1210] [/device:CPU:0] (DEBUG INFO) Executor start aborting (this does not indicate an error and you can ignore this message): INVALID_ARGUMENT: You must feed a value for placeholder tensor 'Placeholder/_11' with dtype float and shape [204]\n",
      "\t [[{{node Placeholder/_11}}]]\n"
     ]
    },
    {
     "name": "stdout",
     "output_type": "stream",
     "text": [
      "Y_pred shape is (199, 1)\n",
      "3/3 - 1s - loss: 0.1897 - 1s/epoch - 413ms/step\n",
      "Epoch 2/10\n"
     ]
    },
    {
     "name": "stderr",
     "output_type": "stream",
     "text": [
      "2023-10-10 00:34:27.310106: I tensorflow/core/common_runtime/executor.cc:1210] [/device:CPU:0] (DEBUG INFO) Executor start aborting (this does not indicate an error and you can ignore this message): INVALID_ARGUMENT: You must feed a value for placeholder tensor 'Placeholder/_10' with dtype float and shape [199,30,15]\n",
      "\t [[{{node Placeholder/_10}}]]\n",
      "2023-10-10 00:34:27.310277: I tensorflow/core/common_runtime/executor.cc:1210] [/device:CPU:0] (DEBUG INFO) Executor start aborting (this does not indicate an error and you can ignore this message): INVALID_ARGUMENT: You must feed a value for placeholder tensor 'Placeholder/_10' with dtype float and shape [199,30,15]\n",
      "\t [[{{node Placeholder/_10}}]]\n"
     ]
    },
    {
     "name": "stdout",
     "output_type": "stream",
     "text": [
      "Y_pred shape is (199, 1)\n",
      "3/3 - 0s - loss: 0.1303 - 128ms/epoch - 43ms/step\n",
      "Epoch 3/10\n",
      "Y_pred shape is (199, 1)\n",
      "3/3 - 0s - loss: 0.0496 - 126ms/epoch - 42ms/step\n",
      "Epoch 4/10\n"
     ]
    },
    {
     "name": "stderr",
     "output_type": "stream",
     "text": [
      "2023-10-10 00:34:27.572086: I tensorflow/core/common_runtime/executor.cc:1210] [/device:CPU:0] (DEBUG INFO) Executor start aborting (this does not indicate an error and you can ignore this message): INVALID_ARGUMENT: You must feed a value for placeholder tensor 'Placeholder/_10' with dtype float and shape [199,30,15]\n",
      "\t [[{{node Placeholder/_10}}]]\n",
      "2023-10-10 00:34:27.572262: I tensorflow/core/common_runtime/executor.cc:1210] [/device:CPU:0] (DEBUG INFO) Executor start aborting (this does not indicate an error and you can ignore this message): INVALID_ARGUMENT: You must feed a value for placeholder tensor 'Placeholder/_10' with dtype float and shape [199,30,15]\n",
      "\t [[{{node Placeholder/_10}}]]\n",
      "2023-10-10 00:34:27.699997: I tensorflow/core/common_runtime/executor.cc:1210] [/device:CPU:0] (DEBUG INFO) Executor start aborting (this does not indicate an error and you can ignore this message): INVALID_ARGUMENT: You must feed a value for placeholder tensor 'Placeholder/_10' with dtype float and shape [199,30,15]\n",
      "\t [[{{node Placeholder/_10}}]]\n",
      "2023-10-10 00:34:27.700165: I tensorflow/core/common_runtime/executor.cc:1210] [/device:CPU:0] (DEBUG INFO) Executor start aborting (this does not indicate an error and you can ignore this message): INVALID_ARGUMENT: You must feed a value for placeholder tensor 'Placeholder/_10' with dtype float and shape [199,30,15]\n",
      "\t [[{{node Placeholder/_10}}]]\n"
     ]
    },
    {
     "name": "stdout",
     "output_type": "stream",
     "text": [
      "Y_pred shape is (199, 1)\n",
      "3/3 - 0s - loss: 0.0358 - 132ms/epoch - 44ms/step\n",
      "Epoch 5/10\n",
      "Y_pred shape is (199, 1)\n",
      "3/3 - 0s - loss: 0.0283 - 132ms/epoch - 44ms/step\n",
      "Epoch 6/10\n"
     ]
    },
    {
     "name": "stderr",
     "output_type": "stream",
     "text": [
      "2023-10-10 00:34:27.831122: I tensorflow/core/common_runtime/executor.cc:1210] [/device:CPU:0] (DEBUG INFO) Executor start aborting (this does not indicate an error and you can ignore this message): INVALID_ARGUMENT: You must feed a value for placeholder tensor 'Placeholder/_10' with dtype float and shape [199,30,15]\n",
      "\t [[{{node Placeholder/_10}}]]\n",
      "2023-10-10 00:34:27.831293: I tensorflow/core/common_runtime/executor.cc:1210] [/device:CPU:0] (DEBUG INFO) Executor start aborting (this does not indicate an error and you can ignore this message): INVALID_ARGUMENT: You must feed a value for placeholder tensor 'Placeholder/_10' with dtype float and shape [199,30,15]\n",
      "\t [[{{node Placeholder/_10}}]]\n",
      "2023-10-10 00:34:27.963293: I tensorflow/core/common_runtime/executor.cc:1210] [/device:CPU:0] (DEBUG INFO) Executor start aborting (this does not indicate an error and you can ignore this message): INVALID_ARGUMENT: You must feed a value for placeholder tensor 'Placeholder/_10' with dtype float and shape [199,30,15]\n",
      "\t [[{{node Placeholder/_10}}]]\n",
      "2023-10-10 00:34:27.963464: I tensorflow/core/common_runtime/executor.cc:1210] [/device:CPU:0] (DEBUG INFO) Executor start aborting (this does not indicate an error and you can ignore this message): INVALID_ARGUMENT: You must feed a value for placeholder tensor 'Placeholder/_10' with dtype float and shape [199,30,15]\n",
      "\t [[{{node Placeholder/_10}}]]\n"
     ]
    },
    {
     "name": "stdout",
     "output_type": "stream",
     "text": [
      "Y_pred shape is (199, 1)\n",
      "3/3 - 0s - loss: 0.0243 - 129ms/epoch - 43ms/step\n",
      "Epoch 7/10\n",
      "Y_pred shape is (199, 1)\n",
      "3/3 - 0s - loss: 0.0199 - 125ms/epoch - 42ms/step\n",
      "Epoch 8/10\n"
     ]
    },
    {
     "name": "stderr",
     "output_type": "stream",
     "text": [
      "2023-10-10 00:34:28.092961: I tensorflow/core/common_runtime/executor.cc:1210] [/device:CPU:0] (DEBUG INFO) Executor start aborting (this does not indicate an error and you can ignore this message): INVALID_ARGUMENT: You must feed a value for placeholder tensor 'Placeholder/_10' with dtype float and shape [199,30,15]\n",
      "\t [[{{node Placeholder/_10}}]]\n",
      "2023-10-10 00:34:28.093128: I tensorflow/core/common_runtime/executor.cc:1210] [/device:CPU:0] (DEBUG INFO) Executor start aborting (this does not indicate an error and you can ignore this message): INVALID_ARGUMENT: You must feed a value for placeholder tensor 'Placeholder/_10' with dtype float and shape [199,30,15]\n",
      "\t [[{{node Placeholder/_10}}]]\n",
      "2023-10-10 00:34:28.219533: I tensorflow/core/common_runtime/executor.cc:1210] [/device:CPU:0] (DEBUG INFO) Executor start aborting (this does not indicate an error and you can ignore this message): INVALID_ARGUMENT: You must feed a value for placeholder tensor 'Placeholder/_10' with dtype float and shape [199,30,15]\n",
      "\t [[{{node Placeholder/_10}}]]\n",
      "2023-10-10 00:34:28.219700: I tensorflow/core/common_runtime/executor.cc:1210] [/device:CPU:0] (DEBUG INFO) Executor start aborting (this does not indicate an error and you can ignore this message): INVALID_ARGUMENT: You must feed a value for placeholder tensor 'Placeholder/_10' with dtype float and shape [199,30,15]\n",
      "\t [[{{node Placeholder/_10}}]]\n"
     ]
    },
    {
     "name": "stdout",
     "output_type": "stream",
     "text": [
      "Y_pred shape is (199, 1)\n",
      "3/3 - 0s - loss: 0.0158 - 133ms/epoch - 44ms/step\n",
      "Epoch 9/10\n",
      "Y_pred shape is (199, 1)\n",
      "3/3 - 0s - loss: 0.0134 - 130ms/epoch - 43ms/step\n",
      "Epoch 10/10\n"
     ]
    },
    {
     "name": "stderr",
     "output_type": "stream",
     "text": [
      "2023-10-10 00:34:28.352132: I tensorflow/core/common_runtime/executor.cc:1210] [/device:CPU:0] (DEBUG INFO) Executor start aborting (this does not indicate an error and you can ignore this message): INVALID_ARGUMENT: You must feed a value for placeholder tensor 'Placeholder/_10' with dtype float and shape [199,30,15]\n",
      "\t [[{{node Placeholder/_10}}]]\n",
      "2023-10-10 00:34:28.352305: I tensorflow/core/common_runtime/executor.cc:1210] [/device:CPU:0] (DEBUG INFO) Executor start aborting (this does not indicate an error and you can ignore this message): INVALID_ARGUMENT: You must feed a value for placeholder tensor 'Placeholder/_10' with dtype float and shape [199,30,15]\n",
      "\t [[{{node Placeholder/_10}}]]\n",
      "2023-10-10 00:34:28.484394: I tensorflow/core/common_runtime/executor.cc:1210] [/device:CPU:0] (DEBUG INFO) Executor start aborting (this does not indicate an error and you can ignore this message): INVALID_ARGUMENT: You must feed a value for placeholder tensor 'Placeholder/_10' with dtype float and shape [199,30,15]\n",
      "\t [[{{node Placeholder/_10}}]]\n",
      "2023-10-10 00:34:28.484563: I tensorflow/core/common_runtime/executor.cc:1210] [/device:CPU:0] (DEBUG INFO) Executor start aborting (this does not indicate an error and you can ignore this message): INVALID_ARGUMENT: You must feed a value for placeholder tensor 'Placeholder/_10' with dtype float and shape [199,30,15]\n",
      "\t [[{{node Placeholder/_10}}]]\n"
     ]
    },
    {
     "name": "stdout",
     "output_type": "stream",
     "text": [
      "Y_pred shape is (199, 1)\n",
      "3/3 - 0s - loss: 0.0135 - 135ms/epoch - 45ms/step\n",
      "==============================================\n",
      "Running cross validation round 2\n",
      "Epoch 1/10\n"
     ]
    },
    {
     "name": "stderr",
     "output_type": "stream",
     "text": [
      "2023-10-10 00:34:28.617126: I tensorflow/core/common_runtime/executor.cc:1210] [/device:CPU:0] (DEBUG INFO) Executor start aborting (this does not indicate an error and you can ignore this message): INVALID_ARGUMENT: You must feed a value for placeholder tensor 'Placeholder/_10' with dtype float and shape [199,30,15]\n",
      "\t [[{{node Placeholder/_10}}]]\n",
      "2023-10-10 00:34:28.617301: I tensorflow/core/common_runtime/executor.cc:1210] [/device:CPU:0] (DEBUG INFO) Executor start aborting (this does not indicate an error and you can ignore this message): INVALID_ARGUMENT: You must feed a value for placeholder tensor 'Placeholder/_10' with dtype float and shape [199,30,15]\n",
      "\t [[{{node Placeholder/_10}}]]\n",
      "2023-10-10 00:34:28.688379: I tensorflow/core/common_runtime/executor.cc:1210] [/device:CPU:0] (DEBUG INFO) Executor start aborting (this does not indicate an error and you can ignore this message): INVALID_ARGUMENT: You must feed a value for placeholder tensor 'Placeholder/_11' with dtype float and shape [403]\n",
      "\t [[{{node Placeholder/_11}}]]\n",
      "2023-10-10 00:34:28.688578: I tensorflow/core/common_runtime/executor.cc:1210] [/device:CPU:0] (DEBUG INFO) Executor start aborting (this does not indicate an error and you can ignore this message): INVALID_ARGUMENT: You must feed a value for placeholder tensor 'Placeholder/_11' with dtype float and shape [403]\n",
      "\t [[{{node Placeholder/_11}}]]\n"
     ]
    },
    {
     "name": "stdout",
     "output_type": "stream",
     "text": [
      "Y_pred shape is (199, 1)\n",
      "5/5 - 0s - loss: 0.0293 - 183ms/epoch - 37ms/step\n",
      "Epoch 2/10\n"
     ]
    },
    {
     "name": "stderr",
     "output_type": "stream",
     "text": [
      "2023-10-10 00:34:28.839484: I tensorflow/core/common_runtime/executor.cc:1210] [/device:CPU:0] (DEBUG INFO) Executor start aborting (this does not indicate an error and you can ignore this message): INVALID_ARGUMENT: You must feed a value for placeholder tensor 'Placeholder/_10' with dtype float and shape [199,30,15]\n",
      "\t [[{{node Placeholder/_10}}]]\n",
      "2023-10-10 00:34:28.839653: I tensorflow/core/common_runtime/executor.cc:1210] [/device:CPU:0] (DEBUG INFO) Executor start aborting (this does not indicate an error and you can ignore this message): INVALID_ARGUMENT: You must feed a value for placeholder tensor 'Placeholder/_10' with dtype float and shape [199,30,15]\n",
      "\t [[{{node Placeholder/_10}}]]\n",
      "2023-10-10 00:34:29.022504: I tensorflow/core/common_runtime/executor.cc:1210] [/device:CPU:0] (DEBUG INFO) Executor start aborting (this does not indicate an error and you can ignore this message): INVALID_ARGUMENT: You must feed a value for placeholder tensor 'Placeholder/_10' with dtype float and shape [199,30,15]\n",
      "\t [[{{node Placeholder/_10}}]]\n",
      "2023-10-10 00:34:29.022669: I tensorflow/core/common_runtime/executor.cc:1210] [/device:CPU:0] (DEBUG INFO) Executor start aborting (this does not indicate an error and you can ignore this message): INVALID_ARGUMENT: You must feed a value for placeholder tensor 'Placeholder/_10' with dtype float and shape [199,30,15]\n",
      "\t [[{{node Placeholder/_10}}]]\n"
     ]
    },
    {
     "name": "stdout",
     "output_type": "stream",
     "text": [
      "Y_pred shape is (199, 1)\n",
      "5/5 - 0s - loss: 0.0223 - 182ms/epoch - 36ms/step\n",
      "Epoch 3/10\n",
      "Y_pred shape is (199, 1)\n",
      "5/5 - 0s - loss: 0.0214 - 178ms/epoch - 36ms/step\n",
      "Epoch 4/10\n"
     ]
    },
    {
     "name": "stderr",
     "output_type": "stream",
     "text": [
      "2023-10-10 00:34:29.201690: I tensorflow/core/common_runtime/executor.cc:1210] [/device:CPU:0] (DEBUG INFO) Executor start aborting (this does not indicate an error and you can ignore this message): INVALID_ARGUMENT: You must feed a value for placeholder tensor 'Placeholder/_10' with dtype float and shape [199,30,15]\n",
      "\t [[{{node Placeholder/_10}}]]\n",
      "2023-10-10 00:34:29.201858: I tensorflow/core/common_runtime/executor.cc:1210] [/device:CPU:0] (DEBUG INFO) Executor start aborting (this does not indicate an error and you can ignore this message): INVALID_ARGUMENT: You must feed a value for placeholder tensor 'Placeholder/_10' with dtype float and shape [199,30,15]\n",
      "\t [[{{node Placeholder/_10}}]]\n",
      "2023-10-10 00:34:29.382489: I tensorflow/core/common_runtime/executor.cc:1210] [/device:CPU:0] (DEBUG INFO) Executor start aborting (this does not indicate an error and you can ignore this message): INVALID_ARGUMENT: You must feed a value for placeholder tensor 'Placeholder/_10' with dtype float and shape [199,30,15]\n",
      "\t [[{{node Placeholder/_10}}]]\n",
      "2023-10-10 00:34:29.382656: I tensorflow/core/common_runtime/executor.cc:1210] [/device:CPU:0] (DEBUG INFO) Executor start aborting (this does not indicate an error and you can ignore this message): INVALID_ARGUMENT: You must feed a value for placeholder tensor 'Placeholder/_10' with dtype float and shape [199,30,15]\n",
      "\t [[{{node Placeholder/_10}}]]\n"
     ]
    },
    {
     "name": "stdout",
     "output_type": "stream",
     "text": [
      "Y_pred shape is (199, 1)\n",
      "5/5 - 0s - loss: 0.0193 - 182ms/epoch - 36ms/step\n",
      "Epoch 5/10\n",
      "Y_pred shape is (199, 1)\n",
      "5/5 - 0s - loss: 0.0176 - 186ms/epoch - 37ms/step\n",
      "Epoch 6/10\n"
     ]
    },
    {
     "name": "stderr",
     "output_type": "stream",
     "text": [
      "2023-10-10 00:34:29.569359: I tensorflow/core/common_runtime/executor.cc:1210] [/device:CPU:0] (DEBUG INFO) Executor start aborting (this does not indicate an error and you can ignore this message): INVALID_ARGUMENT: You must feed a value for placeholder tensor 'Placeholder/_10' with dtype float and shape [199,30,15]\n",
      "\t [[{{node Placeholder/_10}}]]\n",
      "2023-10-10 00:34:29.569526: I tensorflow/core/common_runtime/executor.cc:1210] [/device:CPU:0] (DEBUG INFO) Executor start aborting (this does not indicate an error and you can ignore this message): INVALID_ARGUMENT: You must feed a value for placeholder tensor 'Placeholder/_10' with dtype float and shape [199,30,15]\n",
      "\t [[{{node Placeholder/_10}}]]\n",
      "2023-10-10 00:34:29.752516: I tensorflow/core/common_runtime/executor.cc:1210] [/device:CPU:0] (DEBUG INFO) Executor start aborting (this does not indicate an error and you can ignore this message): INVALID_ARGUMENT: You must feed a value for placeholder tensor 'Placeholder/_10' with dtype float and shape [199,30,15]\n",
      "\t [[{{node Placeholder/_10}}]]\n",
      "2023-10-10 00:34:29.752685: I tensorflow/core/common_runtime/executor.cc:1210] [/device:CPU:0] (DEBUG INFO) Executor start aborting (this does not indicate an error and you can ignore this message): INVALID_ARGUMENT: You must feed a value for placeholder tensor 'Placeholder/_10' with dtype float and shape [199,30,15]\n",
      "\t [[{{node Placeholder/_10}}]]\n"
     ]
    },
    {
     "name": "stdout",
     "output_type": "stream",
     "text": [
      "Y_pred shape is (199, 1)\n",
      "5/5 - 0s - loss: 0.0161 - 183ms/epoch - 37ms/step\n",
      "Epoch 7/10\n",
      "Y_pred shape is (199, 1)\n",
      "5/5 - 0s - loss: 0.0133 - 182ms/epoch - 36ms/step\n",
      "Epoch 8/10\n"
     ]
    },
    {
     "name": "stderr",
     "output_type": "stream",
     "text": [
      "2023-10-10 00:34:29.936051: I tensorflow/core/common_runtime/executor.cc:1210] [/device:CPU:0] (DEBUG INFO) Executor start aborting (this does not indicate an error and you can ignore this message): INVALID_ARGUMENT: You must feed a value for placeholder tensor 'Placeholder/_10' with dtype float and shape [199,30,15]\n",
      "\t [[{{node Placeholder/_10}}]]\n",
      "2023-10-10 00:34:29.936217: I tensorflow/core/common_runtime/executor.cc:1210] [/device:CPU:0] (DEBUG INFO) Executor start aborting (this does not indicate an error and you can ignore this message): INVALID_ARGUMENT: You must feed a value for placeholder tensor 'Placeholder/_10' with dtype float and shape [199,30,15]\n",
      "\t [[{{node Placeholder/_10}}]]\n",
      "2023-10-10 00:34:30.129639: I tensorflow/core/common_runtime/executor.cc:1210] [/device:CPU:0] (DEBUG INFO) Executor start aborting (this does not indicate an error and you can ignore this message): INVALID_ARGUMENT: You must feed a value for placeholder tensor 'Placeholder/_10' with dtype float and shape [199,30,15]\n",
      "\t [[{{node Placeholder/_10}}]]\n",
      "2023-10-10 00:34:30.129810: I tensorflow/core/common_runtime/executor.cc:1210] [/device:CPU:0] (DEBUG INFO) Executor start aborting (this does not indicate an error and you can ignore this message): INVALID_ARGUMENT: You must feed a value for placeholder tensor 'Placeholder/_10' with dtype float and shape [199,30,15]\n",
      "\t [[{{node Placeholder/_10}}]]\n"
     ]
    },
    {
     "name": "stdout",
     "output_type": "stream",
     "text": [
      "Y_pred shape is (199, 1)\n",
      "5/5 - 0s - loss: 0.0140 - 193ms/epoch - 39ms/step\n",
      "Epoch 9/10\n",
      "Y_pred shape is (199, 1)\n",
      "5/5 - 0s - loss: 0.0152 - 182ms/epoch - 36ms/step\n",
      "Epoch 10/10\n"
     ]
    },
    {
     "name": "stderr",
     "output_type": "stream",
     "text": [
      "2023-10-10 00:34:30.313276: I tensorflow/core/common_runtime/executor.cc:1210] [/device:CPU:0] (DEBUG INFO) Executor start aborting (this does not indicate an error and you can ignore this message): INVALID_ARGUMENT: You must feed a value for placeholder tensor 'Placeholder/_10' with dtype float and shape [199,30,15]\n",
      "\t [[{{node Placeholder/_10}}]]\n",
      "2023-10-10 00:34:30.313443: I tensorflow/core/common_runtime/executor.cc:1210] [/device:CPU:0] (DEBUG INFO) Executor start aborting (this does not indicate an error and you can ignore this message): INVALID_ARGUMENT: You must feed a value for placeholder tensor 'Placeholder/_10' with dtype float and shape [199,30,15]\n",
      "\t [[{{node Placeholder/_10}}]]\n",
      "2023-10-10 00:34:30.495183: I tensorflow/core/common_runtime/executor.cc:1210] [/device:CPU:0] (DEBUG INFO) Executor start aborting (this does not indicate an error and you can ignore this message): INVALID_ARGUMENT: You must feed a value for placeholder tensor 'Placeholder/_10' with dtype float and shape [199,30,15]\n",
      "\t [[{{node Placeholder/_10}}]]\n",
      "2023-10-10 00:34:30.495350: I tensorflow/core/common_runtime/executor.cc:1210] [/device:CPU:0] (DEBUG INFO) Executor start aborting (this does not indicate an error and you can ignore this message): INVALID_ARGUMENT: You must feed a value for placeholder tensor 'Placeholder/_10' with dtype float and shape [199,30,15]\n",
      "\t [[{{node Placeholder/_10}}]]\n"
     ]
    },
    {
     "name": "stdout",
     "output_type": "stream",
     "text": [
      "Y_pred shape is (199, 1)\n",
      "5/5 - 0s - loss: 0.0126 - 182ms/epoch - 36ms/step\n",
      "==============================================\n",
      "Running cross validation round 3\n",
      "Epoch 1/10\n"
     ]
    },
    {
     "name": "stderr",
     "output_type": "stream",
     "text": [
      "2023-10-10 00:34:30.567239: I tensorflow/core/common_runtime/executor.cc:1210] [/device:CPU:0] (DEBUG INFO) Executor start aborting (this does not indicate an error and you can ignore this message): INVALID_ARGUMENT: You must feed a value for placeholder tensor 'Placeholder/_11' with dtype float and shape [602]\n",
      "\t [[{{node Placeholder/_11}}]]\n",
      "2023-10-10 00:34:30.567448: I tensorflow/core/common_runtime/executor.cc:1210] [/device:CPU:0] (DEBUG INFO) Executor start aborting (this does not indicate an error and you can ignore this message): INVALID_ARGUMENT: You must feed a value for placeholder tensor 'Placeholder/_11' with dtype float and shape [602]\n",
      "\t [[{{node Placeholder/_11}}]]\n"
     ]
    },
    {
     "name": "stdout",
     "output_type": "stream",
     "text": [
      "Y_pred shape is (199, 1)\n",
      "7/7 - 0s - loss: 0.0304 - 239ms/epoch - 34ms/step\n",
      "Epoch 2/10\n"
     ]
    },
    {
     "name": "stderr",
     "output_type": "stream",
     "text": [
      "2023-10-10 00:34:30.773432: I tensorflow/core/common_runtime/executor.cc:1210] [/device:CPU:0] (DEBUG INFO) Executor start aborting (this does not indicate an error and you can ignore this message): INVALID_ARGUMENT: You must feed a value for placeholder tensor 'Placeholder/_10' with dtype float and shape [199,30,15]\n",
      "\t [[{{node Placeholder/_10}}]]\n",
      "2023-10-10 00:34:30.773623: I tensorflow/core/common_runtime/executor.cc:1210] [/device:CPU:0] (DEBUG INFO) Executor start aborting (this does not indicate an error and you can ignore this message): INVALID_ARGUMENT: You must feed a value for placeholder tensor 'Placeholder/_10' with dtype float and shape [199,30,15]\n",
      "\t [[{{node Placeholder/_10}}]]\n"
     ]
    },
    {
     "name": "stdout",
     "output_type": "stream",
     "text": [
      "Y_pred shape is (199, 1)\n",
      "7/7 - 0s - loss: 0.0187 - 247ms/epoch - 35ms/step\n",
      "Epoch 3/10\n"
     ]
    },
    {
     "name": "stderr",
     "output_type": "stream",
     "text": [
      "2023-10-10 00:34:31.021098: I tensorflow/core/common_runtime/executor.cc:1210] [/device:CPU:0] (DEBUG INFO) Executor start aborting (this does not indicate an error and you can ignore this message): INVALID_ARGUMENT: You must feed a value for placeholder tensor 'Placeholder/_10' with dtype float and shape [199,30,15]\n",
      "\t [[{{node Placeholder/_10}}]]\n",
      "2023-10-10 00:34:31.021268: I tensorflow/core/common_runtime/executor.cc:1210] [/device:CPU:0] (DEBUG INFO) Executor start aborting (this does not indicate an error and you can ignore this message): INVALID_ARGUMENT: You must feed a value for placeholder tensor 'Placeholder/_10' with dtype float and shape [199,30,15]\n",
      "\t [[{{node Placeholder/_10}}]]\n"
     ]
    },
    {
     "name": "stdout",
     "output_type": "stream",
     "text": [
      "Y_pred shape is (199, 1)\n",
      "7/7 - 0s - loss: 0.0158 - 259ms/epoch - 37ms/step\n",
      "Epoch 4/10\n"
     ]
    },
    {
     "name": "stderr",
     "output_type": "stream",
     "text": [
      "2023-10-10 00:34:31.281405: I tensorflow/core/common_runtime/executor.cc:1210] [/device:CPU:0] (DEBUG INFO) Executor start aborting (this does not indicate an error and you can ignore this message): INVALID_ARGUMENT: You must feed a value for placeholder tensor 'Placeholder/_10' with dtype float and shape [199,30,15]\n",
      "\t [[{{node Placeholder/_10}}]]\n",
      "2023-10-10 00:34:31.281577: I tensorflow/core/common_runtime/executor.cc:1210] [/device:CPU:0] (DEBUG INFO) Executor start aborting (this does not indicate an error and you can ignore this message): INVALID_ARGUMENT: You must feed a value for placeholder tensor 'Placeholder/_10' with dtype float and shape [199,30,15]\n",
      "\t [[{{node Placeholder/_10}}]]\n"
     ]
    },
    {
     "name": "stdout",
     "output_type": "stream",
     "text": [
      "Y_pred shape is (199, 1)\n",
      "7/7 - 0s - loss: 0.0151 - 261ms/epoch - 37ms/step\n",
      "Epoch 5/10\n"
     ]
    },
    {
     "name": "stderr",
     "output_type": "stream",
     "text": [
      "2023-10-10 00:34:31.542558: I tensorflow/core/common_runtime/executor.cc:1210] [/device:CPU:0] (DEBUG INFO) Executor start aborting (this does not indicate an error and you can ignore this message): INVALID_ARGUMENT: You must feed a value for placeholder tensor 'Placeholder/_10' with dtype float and shape [199,30,15]\n",
      "\t [[{{node Placeholder/_10}}]]\n",
      "2023-10-10 00:34:31.542728: I tensorflow/core/common_runtime/executor.cc:1210] [/device:CPU:0] (DEBUG INFO) Executor start aborting (this does not indicate an error and you can ignore this message): INVALID_ARGUMENT: You must feed a value for placeholder tensor 'Placeholder/_10' with dtype float and shape [199,30,15]\n",
      "\t [[{{node Placeholder/_10}}]]\n"
     ]
    },
    {
     "name": "stdout",
     "output_type": "stream",
     "text": [
      "Y_pred shape is (199, 1)\n",
      "7/7 - 0s - loss: 0.0147 - 256ms/epoch - 37ms/step\n",
      "Epoch 6/10\n"
     ]
    },
    {
     "name": "stderr",
     "output_type": "stream",
     "text": [
      "2023-10-10 00:34:31.800380: I tensorflow/core/common_runtime/executor.cc:1210] [/device:CPU:0] (DEBUG INFO) Executor start aborting (this does not indicate an error and you can ignore this message): INVALID_ARGUMENT: You must feed a value for placeholder tensor 'Placeholder/_10' with dtype float and shape [199,30,15]\n",
      "\t [[{{node Placeholder/_10}}]]\n",
      "2023-10-10 00:34:31.800551: I tensorflow/core/common_runtime/executor.cc:1210] [/device:CPU:0] (DEBUG INFO) Executor start aborting (this does not indicate an error and you can ignore this message): INVALID_ARGUMENT: You must feed a value for placeholder tensor 'Placeholder/_10' with dtype float and shape [199,30,15]\n",
      "\t [[{{node Placeholder/_10}}]]\n"
     ]
    },
    {
     "name": "stdout",
     "output_type": "stream",
     "text": [
      "Y_pred shape is (199, 1)\n",
      "7/7 - 0s - loss: 0.0117 - 258ms/epoch - 37ms/step\n",
      "Epoch 7/10\n"
     ]
    },
    {
     "name": "stderr",
     "output_type": "stream",
     "text": [
      "2023-10-10 00:34:32.058554: I tensorflow/core/common_runtime/executor.cc:1210] [/device:CPU:0] (DEBUG INFO) Executor start aborting (this does not indicate an error and you can ignore this message): INVALID_ARGUMENT: You must feed a value for placeholder tensor 'Placeholder/_10' with dtype float and shape [199,30,15]\n",
      "\t [[{{node Placeholder/_10}}]]\n",
      "2023-10-10 00:34:32.058721: I tensorflow/core/common_runtime/executor.cc:1210] [/device:CPU:0] (DEBUG INFO) Executor start aborting (this does not indicate an error and you can ignore this message): INVALID_ARGUMENT: You must feed a value for placeholder tensor 'Placeholder/_10' with dtype float and shape [199,30,15]\n",
      "\t [[{{node Placeholder/_10}}]]\n"
     ]
    },
    {
     "name": "stdout",
     "output_type": "stream",
     "text": [
      "Y_pred shape is (199, 1)\n",
      "7/7 - 0s - loss: 0.0116 - 255ms/epoch - 36ms/step\n",
      "Epoch 8/10\n"
     ]
    },
    {
     "name": "stderr",
     "output_type": "stream",
     "text": [
      "2023-10-10 00:34:32.315076: I tensorflow/core/common_runtime/executor.cc:1210] [/device:CPU:0] (DEBUG INFO) Executor start aborting (this does not indicate an error and you can ignore this message): INVALID_ARGUMENT: You must feed a value for placeholder tensor 'Placeholder/_10' with dtype float and shape [199,30,15]\n",
      "\t [[{{node Placeholder/_10}}]]\n",
      "2023-10-10 00:34:32.315244: I tensorflow/core/common_runtime/executor.cc:1210] [/device:CPU:0] (DEBUG INFO) Executor start aborting (this does not indicate an error and you can ignore this message): INVALID_ARGUMENT: You must feed a value for placeholder tensor 'Placeholder/_10' with dtype float and shape [199,30,15]\n",
      "\t [[{{node Placeholder/_10}}]]\n"
     ]
    },
    {
     "name": "stdout",
     "output_type": "stream",
     "text": [
      "Y_pred shape is (199, 1)\n",
      "7/7 - 0s - loss: 0.0108 - 254ms/epoch - 36ms/step\n",
      "Epoch 9/10\n"
     ]
    },
    {
     "name": "stderr",
     "output_type": "stream",
     "text": [
      "2023-10-10 00:34:32.569548: I tensorflow/core/common_runtime/executor.cc:1210] [/device:CPU:0] (DEBUG INFO) Executor start aborting (this does not indicate an error and you can ignore this message): INVALID_ARGUMENT: You must feed a value for placeholder tensor 'Placeholder/_10' with dtype float and shape [199,30,15]\n",
      "\t [[{{node Placeholder/_10}}]]\n",
      "2023-10-10 00:34:32.569717: I tensorflow/core/common_runtime/executor.cc:1210] [/device:CPU:0] (DEBUG INFO) Executor start aborting (this does not indicate an error and you can ignore this message): INVALID_ARGUMENT: You must feed a value for placeholder tensor 'Placeholder/_10' with dtype float and shape [199,30,15]\n",
      "\t [[{{node Placeholder/_10}}]]\n"
     ]
    },
    {
     "name": "stdout",
     "output_type": "stream",
     "text": [
      "Y_pred shape is (199, 1)\n",
      "7/7 - 0s - loss: 0.0103 - 256ms/epoch - 37ms/step\n",
      "Epoch 10/10\n"
     ]
    },
    {
     "name": "stderr",
     "output_type": "stream",
     "text": [
      "2023-10-10 00:34:32.826490: I tensorflow/core/common_runtime/executor.cc:1210] [/device:CPU:0] (DEBUG INFO) Executor start aborting (this does not indicate an error and you can ignore this message): INVALID_ARGUMENT: You must feed a value for placeholder tensor 'Placeholder/_10' with dtype float and shape [199,30,15]\n",
      "\t [[{{node Placeholder/_10}}]]\n",
      "2023-10-10 00:34:32.826670: I tensorflow/core/common_runtime/executor.cc:1210] [/device:CPU:0] (DEBUG INFO) Executor start aborting (this does not indicate an error and you can ignore this message): INVALID_ARGUMENT: You must feed a value for placeholder tensor 'Placeholder/_10' with dtype float and shape [199,30,15]\n",
      "\t [[{{node Placeholder/_10}}]]\n"
     ]
    },
    {
     "name": "stdout",
     "output_type": "stream",
     "text": [
      "Y_pred shape is (199, 1)\n",
      "7/7 - 0s - loss: 0.0102 - 261ms/epoch - 37ms/step\n",
      "==============================================\n",
      "Running cross validation round 4\n",
      "Epoch 1/10\n"
     ]
    },
    {
     "name": "stderr",
     "output_type": "stream",
     "text": [
      "2023-10-10 00:34:33.088247: I tensorflow/core/common_runtime/executor.cc:1210] [/device:CPU:0] (DEBUG INFO) Executor start aborting (this does not indicate an error and you can ignore this message): INVALID_ARGUMENT: You must feed a value for placeholder tensor 'Placeholder/_10' with dtype float and shape [199,30,15]\n",
      "\t [[{{node Placeholder/_10}}]]\n",
      "2023-10-10 00:34:33.088418: I tensorflow/core/common_runtime/executor.cc:1210] [/device:CPU:0] (DEBUG INFO) Executor start aborting (this does not indicate an error and you can ignore this message): INVALID_ARGUMENT: You must feed a value for placeholder tensor 'Placeholder/_10' with dtype float and shape [199,30,15]\n",
      "\t [[{{node Placeholder/_10}}]]\n",
      "2023-10-10 00:34:33.159900: I tensorflow/core/common_runtime/executor.cc:1210] [/device:CPU:0] (DEBUG INFO) Executor start aborting (this does not indicate an error and you can ignore this message): INVALID_ARGUMENT: You must feed a value for placeholder tensor 'Placeholder/_11' with dtype float and shape [801]\n",
      "\t [[{{node Placeholder/_11}}]]\n",
      "2023-10-10 00:34:33.160098: I tensorflow/core/common_runtime/executor.cc:1210] [/device:CPU:0] (DEBUG INFO) Executor start aborting (this does not indicate an error and you can ignore this message): INVALID_ARGUMENT: You must feed a value for placeholder tensor 'Placeholder/_11' with dtype float and shape [801]\n",
      "\t [[{{node Placeholder/_11}}]]\n"
     ]
    },
    {
     "name": "stdout",
     "output_type": "stream",
     "text": [
      "Y_pred shape is (199, 1)\n",
      "9/9 - 0s - loss: 21.7235 - 322ms/epoch - 36ms/step\n",
      "Epoch 2/10\n"
     ]
    },
    {
     "name": "stderr",
     "output_type": "stream",
     "text": [
      "2023-10-10 00:34:33.448609: I tensorflow/core/common_runtime/executor.cc:1210] [/device:CPU:0] (DEBUG INFO) Executor start aborting (this does not indicate an error and you can ignore this message): INVALID_ARGUMENT: You must feed a value for placeholder tensor 'Placeholder/_10' with dtype float and shape [199,30,15]\n",
      "\t [[{{node Placeholder/_10}}]]\n",
      "2023-10-10 00:34:33.448774: I tensorflow/core/common_runtime/executor.cc:1210] [/device:CPU:0] (DEBUG INFO) Executor start aborting (this does not indicate an error and you can ignore this message): INVALID_ARGUMENT: You must feed a value for placeholder tensor 'Placeholder/_10' with dtype float and shape [199,30,15]\n",
      "\t [[{{node Placeholder/_10}}]]\n"
     ]
    },
    {
     "name": "stdout",
     "output_type": "stream",
     "text": [
      "Y_pred shape is (199, 1)\n",
      "9/9 - 0s - loss: 0.2433 - 328ms/epoch - 36ms/step\n",
      "Epoch 3/10\n"
     ]
    },
    {
     "name": "stderr",
     "output_type": "stream",
     "text": [
      "2023-10-10 00:34:33.778082: I tensorflow/core/common_runtime/executor.cc:1210] [/device:CPU:0] (DEBUG INFO) Executor start aborting (this does not indicate an error and you can ignore this message): INVALID_ARGUMENT: You must feed a value for placeholder tensor 'Placeholder/_10' with dtype float and shape [199,30,15]\n",
      "\t [[{{node Placeholder/_10}}]]\n",
      "2023-10-10 00:34:33.778247: I tensorflow/core/common_runtime/executor.cc:1210] [/device:CPU:0] (DEBUG INFO) Executor start aborting (this does not indicate an error and you can ignore this message): INVALID_ARGUMENT: You must feed a value for placeholder tensor 'Placeholder/_10' with dtype float and shape [199,30,15]\n",
      "\t [[{{node Placeholder/_10}}]]\n"
     ]
    },
    {
     "name": "stdout",
     "output_type": "stream",
     "text": [
      "Y_pred shape is (199, 1)\n",
      "9/9 - 0s - loss: 0.2966 - 325ms/epoch - 36ms/step\n",
      "Epoch 4/10\n"
     ]
    },
    {
     "name": "stderr",
     "output_type": "stream",
     "text": [
      "2023-10-10 00:34:34.102451: I tensorflow/core/common_runtime/executor.cc:1210] [/device:CPU:0] (DEBUG INFO) Executor start aborting (this does not indicate an error and you can ignore this message): INVALID_ARGUMENT: You must feed a value for placeholder tensor 'Placeholder/_10' with dtype float and shape [199,30,15]\n",
      "\t [[{{node Placeholder/_10}}]]\n",
      "2023-10-10 00:34:34.102620: I tensorflow/core/common_runtime/executor.cc:1210] [/device:CPU:0] (DEBUG INFO) Executor start aborting (this does not indicate an error and you can ignore this message): INVALID_ARGUMENT: You must feed a value for placeholder tensor 'Placeholder/_10' with dtype float and shape [199,30,15]\n",
      "\t [[{{node Placeholder/_10}}]]\n"
     ]
    },
    {
     "name": "stdout",
     "output_type": "stream",
     "text": [
      "Y_pred shape is (199, 1)\n",
      "9/9 - 0s - loss: 0.0505 - 328ms/epoch - 36ms/step\n",
      "Epoch 5/10\n"
     ]
    },
    {
     "name": "stderr",
     "output_type": "stream",
     "text": [
      "2023-10-10 00:34:34.430858: I tensorflow/core/common_runtime/executor.cc:1210] [/device:CPU:0] (DEBUG INFO) Executor start aborting (this does not indicate an error and you can ignore this message): INVALID_ARGUMENT: You must feed a value for placeholder tensor 'Placeholder/_10' with dtype float and shape [199,30,15]\n",
      "\t [[{{node Placeholder/_10}}]]\n",
      "2023-10-10 00:34:34.431024: I tensorflow/core/common_runtime/executor.cc:1210] [/device:CPU:0] (DEBUG INFO) Executor start aborting (this does not indicate an error and you can ignore this message): INVALID_ARGUMENT: You must feed a value for placeholder tensor 'Placeholder/_10' with dtype float and shape [199,30,15]\n",
      "\t [[{{node Placeholder/_10}}]]\n"
     ]
    },
    {
     "name": "stdout",
     "output_type": "stream",
     "text": [
      "Y_pred shape is (199, 1)\n",
      "9/9 - 0s - loss: 0.0301 - 319ms/epoch - 35ms/step\n",
      "Epoch 6/10\n"
     ]
    },
    {
     "name": "stderr",
     "output_type": "stream",
     "text": [
      "2023-10-10 00:34:34.751764: I tensorflow/core/common_runtime/executor.cc:1210] [/device:CPU:0] (DEBUG INFO) Executor start aborting (this does not indicate an error and you can ignore this message): INVALID_ARGUMENT: You must feed a value for placeholder tensor 'Placeholder/_10' with dtype float and shape [199,30,15]\n",
      "\t [[{{node Placeholder/_10}}]]\n",
      "2023-10-10 00:34:34.751955: I tensorflow/core/common_runtime/executor.cc:1210] [/device:CPU:0] (DEBUG INFO) Executor start aborting (this does not indicate an error and you can ignore this message): INVALID_ARGUMENT: You must feed a value for placeholder tensor 'Placeholder/_10' with dtype float and shape [199,30,15]\n",
      "\t [[{{node Placeholder/_10}}]]\n"
     ]
    },
    {
     "name": "stdout",
     "output_type": "stream",
     "text": [
      "Y_pred shape is (199, 1)\n",
      "9/9 - 0s - loss: 0.0194 - 315ms/epoch - 35ms/step\n",
      "Epoch 7/10\n"
     ]
    },
    {
     "name": "stderr",
     "output_type": "stream",
     "text": [
      "2023-10-10 00:34:35.068595: I tensorflow/core/common_runtime/executor.cc:1210] [/device:CPU:0] (DEBUG INFO) Executor start aborting (this does not indicate an error and you can ignore this message): INVALID_ARGUMENT: You must feed a value for placeholder tensor 'Placeholder/_10' with dtype float and shape [199,30,15]\n",
      "\t [[{{node Placeholder/_10}}]]\n",
      "2023-10-10 00:34:35.068765: I tensorflow/core/common_runtime/executor.cc:1210] [/device:CPU:0] (DEBUG INFO) Executor start aborting (this does not indicate an error and you can ignore this message): INVALID_ARGUMENT: You must feed a value for placeholder tensor 'Placeholder/_10' with dtype float and shape [199,30,15]\n",
      "\t [[{{node Placeholder/_10}}]]\n"
     ]
    },
    {
     "name": "stdout",
     "output_type": "stream",
     "text": [
      "Y_pred shape is (199, 1)\n",
      "9/9 - 0s - loss: 0.0163 - 319ms/epoch - 35ms/step\n",
      "Epoch 8/10\n"
     ]
    },
    {
     "name": "stderr",
     "output_type": "stream",
     "text": [
      "2023-10-10 00:34:35.387162: I tensorflow/core/common_runtime/executor.cc:1210] [/device:CPU:0] (DEBUG INFO) Executor start aborting (this does not indicate an error and you can ignore this message): INVALID_ARGUMENT: You must feed a value for placeholder tensor 'Placeholder/_10' with dtype float and shape [199,30,15]\n",
      "\t [[{{node Placeholder/_10}}]]\n",
      "2023-10-10 00:34:35.387393: I tensorflow/core/common_runtime/executor.cc:1210] [/device:CPU:0] (DEBUG INFO) Executor start aborting (this does not indicate an error and you can ignore this message): INVALID_ARGUMENT: You must feed a value for placeholder tensor 'Placeholder/_10' with dtype float and shape [199,30,15]\n",
      "\t [[{{node Placeholder/_10}}]]\n"
     ]
    },
    {
     "name": "stdout",
     "output_type": "stream",
     "text": [
      "Y_pred shape is (199, 1)\n",
      "9/9 - 0s - loss: 0.0165 - 335ms/epoch - 37ms/step\n",
      "Epoch 9/10\n"
     ]
    },
    {
     "name": "stderr",
     "output_type": "stream",
     "text": [
      "2023-10-10 00:34:35.722968: I tensorflow/core/common_runtime/executor.cc:1210] [/device:CPU:0] (DEBUG INFO) Executor start aborting (this does not indicate an error and you can ignore this message): INVALID_ARGUMENT: You must feed a value for placeholder tensor 'Placeholder/_10' with dtype float and shape [199,30,15]\n",
      "\t [[{{node Placeholder/_10}}]]\n",
      "2023-10-10 00:34:35.723136: I tensorflow/core/common_runtime/executor.cc:1210] [/device:CPU:0] (DEBUG INFO) Executor start aborting (this does not indicate an error and you can ignore this message): INVALID_ARGUMENT: You must feed a value for placeholder tensor 'Placeholder/_10' with dtype float and shape [199,30,15]\n",
      "\t [[{{node Placeholder/_10}}]]\n"
     ]
    },
    {
     "name": "stdout",
     "output_type": "stream",
     "text": [
      "Y_pred shape is (199, 1)\n",
      "9/9 - 0s - loss: 0.0136 - 323ms/epoch - 36ms/step\n",
      "Epoch 10/10\n"
     ]
    },
    {
     "name": "stderr",
     "output_type": "stream",
     "text": [
      "2023-10-10 00:34:36.046767: I tensorflow/core/common_runtime/executor.cc:1210] [/device:CPU:0] (DEBUG INFO) Executor start aborting (this does not indicate an error and you can ignore this message): INVALID_ARGUMENT: You must feed a value for placeholder tensor 'Placeholder/_10' with dtype float and shape [199,30,15]\n",
      "\t [[{{node Placeholder/_10}}]]\n",
      "2023-10-10 00:34:36.046937: I tensorflow/core/common_runtime/executor.cc:1210] [/device:CPU:0] (DEBUG INFO) Executor start aborting (this does not indicate an error and you can ignore this message): INVALID_ARGUMENT: You must feed a value for placeholder tensor 'Placeholder/_10' with dtype float and shape [199,30,15]\n",
      "\t [[{{node Placeholder/_10}}]]\n"
     ]
    },
    {
     "name": "stdout",
     "output_type": "stream",
     "text": [
      "Y_pred shape is (199, 1)\n",
      "9/9 - 0s - loss: 0.0143 - 321ms/epoch - 36ms/step\n",
      "==============================================\n",
      "Running cross validation round 5\n",
      "Epoch 1/10\n"
     ]
    },
    {
     "name": "stderr",
     "output_type": "stream",
     "text": [
      "2023-10-10 00:34:36.369692: I tensorflow/core/common_runtime/executor.cc:1210] [/device:CPU:0] (DEBUG INFO) Executor start aborting (this does not indicate an error and you can ignore this message): INVALID_ARGUMENT: You must feed a value for placeholder tensor 'Placeholder/_10' with dtype float and shape [199,30,15]\n",
      "\t [[{{node Placeholder/_10}}]]\n",
      "2023-10-10 00:34:36.369859: I tensorflow/core/common_runtime/executor.cc:1210] [/device:CPU:0] (DEBUG INFO) Executor start aborting (this does not indicate an error and you can ignore this message): INVALID_ARGUMENT: You must feed a value for placeholder tensor 'Placeholder/_10' with dtype float and shape [199,30,15]\n",
      "\t [[{{node Placeholder/_10}}]]\n",
      "2023-10-10 00:34:36.441834: I tensorflow/core/common_runtime/executor.cc:1210] [/device:CPU:0] (DEBUG INFO) Executor start aborting (this does not indicate an error and you can ignore this message): INVALID_ARGUMENT: You must feed a value for placeholder tensor 'Placeholder/_11' with dtype float and shape [1000]\n",
      "\t [[{{node Placeholder/_11}}]]\n",
      "2023-10-10 00:34:36.442035: I tensorflow/core/common_runtime/executor.cc:1210] [/device:CPU:0] (DEBUG INFO) Executor start aborting (this does not indicate an error and you can ignore this message): INVALID_ARGUMENT: You must feed a value for placeholder tensor 'Placeholder/_11' with dtype float and shape [1000]\n",
      "\t [[{{node Placeholder/_11}}]]\n"
     ]
    },
    {
     "name": "stdout",
     "output_type": "stream",
     "text": [
      "Y_pred shape is (199, 1)\n",
      "10/10 - 0s - loss: 0.0139 - 378ms/epoch - 38ms/step\n",
      "Epoch 2/10\n"
     ]
    },
    {
     "name": "stderr",
     "output_type": "stream",
     "text": [
      "2023-10-10 00:34:36.785007: I tensorflow/core/common_runtime/executor.cc:1210] [/device:CPU:0] (DEBUG INFO) Executor start aborting (this does not indicate an error and you can ignore this message): INVALID_ARGUMENT: You must feed a value for placeholder tensor 'Placeholder/_10' with dtype float and shape [199,30,15]\n",
      "\t [[{{node Placeholder/_10}}]]\n",
      "2023-10-10 00:34:36.785173: I tensorflow/core/common_runtime/executor.cc:1210] [/device:CPU:0] (DEBUG INFO) Executor start aborting (this does not indicate an error and you can ignore this message): INVALID_ARGUMENT: You must feed a value for placeholder tensor 'Placeholder/_10' with dtype float and shape [199,30,15]\n",
      "\t [[{{node Placeholder/_10}}]]\n"
     ]
    },
    {
     "name": "stdout",
     "output_type": "stream",
     "text": [
      "Y_pred shape is (199, 1)\n",
      "10/10 - 0s - loss: 0.0124 - 369ms/epoch - 37ms/step\n",
      "Epoch 3/10\n"
     ]
    },
    {
     "name": "stderr",
     "output_type": "stream",
     "text": [
      "2023-10-10 00:34:37.155065: I tensorflow/core/common_runtime/executor.cc:1210] [/device:CPU:0] (DEBUG INFO) Executor start aborting (this does not indicate an error and you can ignore this message): INVALID_ARGUMENT: You must feed a value for placeholder tensor 'Placeholder/_10' with dtype float and shape [199,30,15]\n",
      "\t [[{{node Placeholder/_10}}]]\n",
      "2023-10-10 00:34:37.155244: I tensorflow/core/common_runtime/executor.cc:1210] [/device:CPU:0] (DEBUG INFO) Executor start aborting (this does not indicate an error and you can ignore this message): INVALID_ARGUMENT: You must feed a value for placeholder tensor 'Placeholder/_10' with dtype float and shape [199,30,15]\n",
      "\t [[{{node Placeholder/_10}}]]\n"
     ]
    },
    {
     "name": "stdout",
     "output_type": "stream",
     "text": [
      "Y_pred shape is (199, 1)\n",
      "10/10 - 0s - loss: 0.0116 - 365ms/epoch - 36ms/step\n",
      "Epoch 4/10\n"
     ]
    },
    {
     "name": "stderr",
     "output_type": "stream",
     "text": [
      "2023-10-10 00:34:37.520818: I tensorflow/core/common_runtime/executor.cc:1210] [/device:CPU:0] (DEBUG INFO) Executor start aborting (this does not indicate an error and you can ignore this message): INVALID_ARGUMENT: You must feed a value for placeholder tensor 'Placeholder/_10' with dtype float and shape [199,30,15]\n",
      "\t [[{{node Placeholder/_10}}]]\n",
      "2023-10-10 00:34:37.520985: I tensorflow/core/common_runtime/executor.cc:1210] [/device:CPU:0] (DEBUG INFO) Executor start aborting (this does not indicate an error and you can ignore this message): INVALID_ARGUMENT: You must feed a value for placeholder tensor 'Placeholder/_10' with dtype float and shape [199,30,15]\n",
      "\t [[{{node Placeholder/_10}}]]\n"
     ]
    },
    {
     "name": "stdout",
     "output_type": "stream",
     "text": [
      "Y_pred shape is (199, 1)\n",
      "10/10 - 0s - loss: 0.0110 - 383ms/epoch - 38ms/step\n",
      "Epoch 5/10\n"
     ]
    },
    {
     "name": "stderr",
     "output_type": "stream",
     "text": [
      "2023-10-10 00:34:37.891269: I tensorflow/core/common_runtime/executor.cc:1210] [/device:CPU:0] (DEBUG INFO) Executor start aborting (this does not indicate an error and you can ignore this message): INVALID_ARGUMENT: You must feed a value for placeholder tensor 'Placeholder/_10' with dtype float and shape [199,30,15]\n",
      "\t [[{{node Placeholder/_10}}]]\n",
      "2023-10-10 00:34:37.891436: I tensorflow/core/common_runtime/executor.cc:1210] [/device:CPU:0] (DEBUG INFO) Executor start aborting (this does not indicate an error and you can ignore this message): INVALID_ARGUMENT: You must feed a value for placeholder tensor 'Placeholder/_10' with dtype float and shape [199,30,15]\n",
      "\t [[{{node Placeholder/_10}}]]\n"
     ]
    },
    {
     "name": "stdout",
     "output_type": "stream",
     "text": [
      "Y_pred shape is (199, 1)\n",
      "10/10 - 0s - loss: 0.0104 - 411ms/epoch - 41ms/step\n",
      "Epoch 6/10\n"
     ]
    },
    {
     "name": "stderr",
     "output_type": "stream",
     "text": [
      "2023-10-10 00:34:38.315222: I tensorflow/core/common_runtime/executor.cc:1210] [/device:CPU:0] (DEBUG INFO) Executor start aborting (this does not indicate an error and you can ignore this message): INVALID_ARGUMENT: You must feed a value for placeholder tensor 'Placeholder/_10' with dtype float and shape [199,30,15]\n",
      "\t [[{{node Placeholder/_10}}]]\n",
      "2023-10-10 00:34:38.315391: I tensorflow/core/common_runtime/executor.cc:1210] [/device:CPU:0] (DEBUG INFO) Executor start aborting (this does not indicate an error and you can ignore this message): INVALID_ARGUMENT: You must feed a value for placeholder tensor 'Placeholder/_10' with dtype float and shape [199,30,15]\n",
      "\t [[{{node Placeholder/_10}}]]\n"
     ]
    },
    {
     "name": "stdout",
     "output_type": "stream",
     "text": [
      "Y_pred shape is (199, 1)\n",
      "10/10 - 0s - loss: 0.0102 - 374ms/epoch - 37ms/step\n",
      "Epoch 7/10\n"
     ]
    },
    {
     "name": "stderr",
     "output_type": "stream",
     "text": [
      "2023-10-10 00:34:38.689505: I tensorflow/core/common_runtime/executor.cc:1210] [/device:CPU:0] (DEBUG INFO) Executor start aborting (this does not indicate an error and you can ignore this message): INVALID_ARGUMENT: You must feed a value for placeholder tensor 'Placeholder/_10' with dtype float and shape [199,30,15]\n",
      "\t [[{{node Placeholder/_10}}]]\n",
      "2023-10-10 00:34:38.689673: I tensorflow/core/common_runtime/executor.cc:1210] [/device:CPU:0] (DEBUG INFO) Executor start aborting (this does not indicate an error and you can ignore this message): INVALID_ARGUMENT: You must feed a value for placeholder tensor 'Placeholder/_10' with dtype float and shape [199,30,15]\n",
      "\t [[{{node Placeholder/_10}}]]\n"
     ]
    },
    {
     "name": "stdout",
     "output_type": "stream",
     "text": [
      "Y_pred shape is (199, 1)\n",
      "10/10 - 0s - loss: 0.0098 - 366ms/epoch - 37ms/step\n",
      "Epoch 8/10\n"
     ]
    },
    {
     "name": "stderr",
     "output_type": "stream",
     "text": [
      "2023-10-10 00:34:39.058233: I tensorflow/core/common_runtime/executor.cc:1210] [/device:CPU:0] (DEBUG INFO) Executor start aborting (this does not indicate an error and you can ignore this message): INVALID_ARGUMENT: You must feed a value for placeholder tensor 'Placeholder/_10' with dtype float and shape [199,30,15]\n",
      "\t [[{{node Placeholder/_10}}]]\n",
      "2023-10-10 00:34:39.058407: I tensorflow/core/common_runtime/executor.cc:1210] [/device:CPU:0] (DEBUG INFO) Executor start aborting (this does not indicate an error and you can ignore this message): INVALID_ARGUMENT: You must feed a value for placeholder tensor 'Placeholder/_10' with dtype float and shape [199,30,15]\n",
      "\t [[{{node Placeholder/_10}}]]\n"
     ]
    },
    {
     "name": "stdout",
     "output_type": "stream",
     "text": [
      "Y_pred shape is (199, 1)\n",
      "10/10 - 0s - loss: 0.0095 - 372ms/epoch - 37ms/step\n",
      "Epoch 9/10\n"
     ]
    },
    {
     "name": "stderr",
     "output_type": "stream",
     "text": [
      "2023-10-10 00:34:39.431355: I tensorflow/core/common_runtime/executor.cc:1210] [/device:CPU:0] (DEBUG INFO) Executor start aborting (this does not indicate an error and you can ignore this message): INVALID_ARGUMENT: You must feed a value for placeholder tensor 'Placeholder/_10' with dtype float and shape [199,30,15]\n",
      "\t [[{{node Placeholder/_10}}]]\n",
      "2023-10-10 00:34:39.431522: I tensorflow/core/common_runtime/executor.cc:1210] [/device:CPU:0] (DEBUG INFO) Executor start aborting (this does not indicate an error and you can ignore this message): INVALID_ARGUMENT: You must feed a value for placeholder tensor 'Placeholder/_10' with dtype float and shape [199,30,15]\n",
      "\t [[{{node Placeholder/_10}}]]\n"
     ]
    },
    {
     "name": "stdout",
     "output_type": "stream",
     "text": [
      "Y_pred shape is (199, 1)\n",
      "10/10 - 0s - loss: 0.0094 - 397ms/epoch - 40ms/step\n",
      "Epoch 10/10\n"
     ]
    },
    {
     "name": "stderr",
     "output_type": "stream",
     "text": [
      "2023-10-10 00:34:39.819271: I tensorflow/core/common_runtime/executor.cc:1210] [/device:CPU:0] (DEBUG INFO) Executor start aborting (this does not indicate an error and you can ignore this message): INVALID_ARGUMENT: You must feed a value for placeholder tensor 'Placeholder/_10' with dtype float and shape [199,30,15]\n",
      "\t [[{{node Placeholder/_10}}]]\n",
      "2023-10-10 00:34:39.819464: I tensorflow/core/common_runtime/executor.cc:1210] [/device:CPU:0] (DEBUG INFO) Executor start aborting (this does not indicate an error and you can ignore this message): INVALID_ARGUMENT: You must feed a value for placeholder tensor 'Placeholder/_10' with dtype float and shape [199,30,15]\n",
      "\t [[{{node Placeholder/_10}}]]\n"
     ]
    },
    {
     "name": "stdout",
     "output_type": "stream",
     "text": [
      "Y_pred shape is (199, 1)\n",
      "10/10 - 0s - loss: 0.0092 - 380ms/epoch - 38ms/step\n",
      "==============================================\n",
      "Epoch 1/30\n",
      " 4/38 [==>...........................] - ETA: 0s - loss: 0.0366"
     ]
    },
    {
     "name": "stderr",
     "output_type": "stream",
     "text": [
      "2023-10-10 00:34:40.209342: I tensorflow/core/common_runtime/executor.cc:1210] [/device:CPU:0] (DEBUG INFO) Executor start aborting (this does not indicate an error and you can ignore this message): INVALID_ARGUMENT: You must feed a value for placeholder tensor 'Placeholder/_10' with dtype float and shape [199,30,15]\n",
      "\t [[{{node Placeholder/_10}}]]\n",
      "2023-10-10 00:34:40.209517: I tensorflow/core/common_runtime/executor.cc:1210] [/device:CPU:0] (DEBUG INFO) Executor start aborting (this does not indicate an error and you can ignore this message): INVALID_ARGUMENT: You must feed a value for placeholder tensor 'Placeholder/_10' with dtype float and shape [199,30,15]\n",
      "\t [[{{node Placeholder/_10}}]]\n",
      "2023-10-10 00:34:40.281214: I tensorflow/core/common_runtime/executor.cc:1210] [/device:CPU:0] (DEBUG INFO) Executor start aborting (this does not indicate an error and you can ignore this message): INVALID_ARGUMENT: You must feed a value for placeholder tensor 'Placeholder/_10' with dtype float and shape [1199,30,15]\n",
      "\t [[{{node Placeholder/_10}}]]\n",
      "2023-10-10 00:34:40.281415: I tensorflow/core/common_runtime/executor.cc:1210] [/device:CPU:0] (DEBUG INFO) Executor start aborting (this does not indicate an error and you can ignore this message): INVALID_ARGUMENT: You must feed a value for placeholder tensor 'Placeholder/_11' with dtype float and shape [1199]\n",
      "\t [[{{node Placeholder/_11}}]]\n"
     ]
    },
    {
     "name": "stdout",
     "output_type": "stream",
     "text": [
      "38/38 [==============================] - 1s 18ms/step - loss: 0.0207\n",
      "Epoch 2/30\n",
      "38/38 [==============================] - 1s 18ms/step - loss: 0.0151\n",
      "Epoch 3/30\n",
      "38/38 [==============================] - 1s 18ms/step - loss: 0.0139\n",
      "Epoch 4/30\n",
      "38/38 [==============================] - 1s 19ms/step - loss: 0.0122\n",
      "Epoch 5/30\n",
      "38/38 [==============================] - 1s 18ms/step - loss: 0.0115\n",
      "Epoch 6/30\n",
      "38/38 [==============================] - 1s 18ms/step - loss: 0.0118\n",
      "Epoch 7/30\n",
      "38/38 [==============================] - 1s 18ms/step - loss: 0.0103\n",
      "Epoch 8/30\n",
      "38/38 [==============================] - 1s 19ms/step - loss: 0.0097\n",
      "Epoch 9/30\n",
      "38/38 [==============================] - 1s 19ms/step - loss: 0.0107\n",
      "Epoch 10/30\n",
      "38/38 [==============================] - 1s 18ms/step - loss: 0.0091\n",
      "Epoch 11/30\n",
      "38/38 [==============================] - 1s 18ms/step - loss: 0.0085\n",
      "Epoch 12/30\n",
      "38/38 [==============================] - 1s 18ms/step - loss: 0.0085\n",
      "Epoch 13/30\n",
      "38/38 [==============================] - 1s 19ms/step - loss: 0.0091\n",
      "Epoch 14/30\n",
      "38/38 [==============================] - 1s 18ms/step - loss: 0.0084\n",
      "Epoch 15/30\n",
      "38/38 [==============================] - 1s 19ms/step - loss: 0.0089\n",
      "Epoch 16/30\n",
      "38/38 [==============================] - 1s 19ms/step - loss: 0.0080\n",
      "Epoch 17/30\n",
      "38/38 [==============================] - 1s 19ms/step - loss: 0.0078\n",
      "Epoch 18/30\n",
      "38/38 [==============================] - 1s 19ms/step - loss: 0.0073\n",
      "Epoch 19/30\n",
      "38/38 [==============================] - 1s 19ms/step - loss: 0.0072\n",
      "Epoch 20/30\n",
      "38/38 [==============================] - 1s 19ms/step - loss: 0.0072\n",
      "Epoch 21/30\n",
      "38/38 [==============================] - 1s 19ms/step - loss: 0.0068\n",
      "Epoch 22/30\n",
      "38/38 [==============================] - 1s 19ms/step - loss: 0.0075\n",
      "Epoch 23/30\n",
      "38/38 [==============================] - 1s 19ms/step - loss: 0.0075\n",
      "Epoch 24/30\n",
      "38/38 [==============================] - 1s 19ms/step - loss: 0.0068\n",
      "Epoch 25/30\n",
      "38/38 [==============================] - 1s 19ms/step - loss: 0.0067\n",
      "Epoch 26/30\n",
      "38/38 [==============================] - 1s 19ms/step - loss: 0.0067\n",
      "Epoch 27/30\n",
      "38/38 [==============================] - 1s 19ms/step - loss: 0.0085\n",
      "Epoch 28/30\n",
      "38/38 [==============================] - 1s 19ms/step - loss: 0.0070\n",
      "Epoch 29/30\n",
      "38/38 [==============================] - 1s 19ms/step - loss: 0.0061\n",
      "Epoch 30/30\n",
      "38/38 [==============================] - 1s 19ms/step - loss: 0.0068\n"
     ]
    },
    {
     "name": "stderr",
     "output_type": "stream",
     "text": [
      "2023-10-10 00:35:01.544826: I tensorflow/core/common_runtime/executor.cc:1210] [/device:CPU:0] (DEBUG INFO) Executor start aborting (this does not indicate an error and you can ignore this message): INVALID_ARGUMENT: You must feed a value for placeholder tensor 'Placeholder/_10' with dtype float and shape [15]\n",
      "\t [[{{node Placeholder/_10}}]]\n",
      "2023-10-10 00:35:01.545015: I tensorflow/core/common_runtime/executor.cc:1210] [/device:CPU:0] (DEBUG INFO) Executor start aborting (this does not indicate an error and you can ignore this message): INVALID_ARGUMENT: You must feed a value for placeholder tensor 'Placeholder/_10' with dtype float and shape [15]\n",
      "\t [[{{node Placeholder/_10}}]]\n"
     ]
    },
    {
     "ename": "TypeError",
     "evalue": "in user code:\n\n    File \"/Users/stevenlee/anaconda3/lib/python3.10/site-packages/keras/src/engine/training.py\", line 2341, in predict_function  *\n        return step_function(self, iterator)\n    File \"/Users/stevenlee/anaconda3/lib/python3.10/site-packages/keras/src/engine/training.py\", line 2327, in step_function  **\n        outputs = model.distribute_strategy.run(run_step, args=(data,))\n    File \"/Users/stevenlee/anaconda3/lib/python3.10/site-packages/keras/src/engine/training.py\", line 2315, in run_step  **\n        outputs = model.predict_step(data)\n    File \"/Users/stevenlee/anaconda3/lib/python3.10/site-packages/keras/src/engine/training.py\", line 2283, in predict_step\n        return self(x, training=False)\n    File \"/Users/stevenlee/anaconda3/lib/python3.10/site-packages/keras/src/utils/traceback_utils.py\", line 70, in error_handler\n        raise e.with_traceback(filtered_tb) from None\n    File \"/Users/stevenlee/anaconda3/lib/python3.10/site-packages/keras/src/layers/rnn/lstm.py\", line 616, in call\n        timesteps = input_shape[0] if self.time_major else input_shape[1]\n\n    TypeError: Exception encountered when calling layer 'lstm_10' (type LSTM).\n    \n    'NoneType' object is not subscriptable\n    \n    Call arguments received by layer 'lstm_10' (type LSTM):\n      • inputs=tf.Tensor(shape=<unknown>, dtype=float32)\n      • mask=None\n      • training=False\n      • initial_state=None\n",
     "output_type": "error",
     "traceback": [
      "\u001b[0;31m---------------------------------------------------------------------------\u001b[0m",
      "\u001b[0;31mTypeError\u001b[0m                                 Traceback (most recent call last)",
      "Cell \u001b[0;32mIn[77], line 1\u001b[0m\n\u001b[0;32m----> 1\u001b[0m metrics \u001b[38;5;241m=\u001b[39m \u001b[43mrun_LSTM\u001b[49m\u001b[43m(\u001b[49m\u001b[43mX\u001b[49m\u001b[43m,\u001b[49m\u001b[43mY\u001b[49m\u001b[43m)\u001b[49m\n",
      "Cell \u001b[0;32mIn[73], line 10\u001b[0m, in \u001b[0;36mrun_LSTM\u001b[0;34m(X, Y)\u001b[0m\n\u001b[1;32m      8\u001b[0m model1\u001b[38;5;241m.\u001b[39mfit_model_train(epochs\u001b[38;5;241m=\u001b[39m\u001b[38;5;241m30\u001b[39m,batch_size\u001b[38;5;241m=\u001b[39m\u001b[38;5;241m32\u001b[39m)\n\u001b[1;32m      9\u001b[0m \u001b[38;5;66;03m#model1.fit_model_train(epochs=30,batch_size=32,callbacks=[CustomCallback(model1)])\u001b[39;00m\n\u001b[0;32m---> 10\u001b[0m \u001b[43mmodel1\u001b[49m\u001b[38;5;241;43m.\u001b[39;49m\u001b[43mpredict\u001b[49m\u001b[43m(\u001b[49m\u001b[43m)\u001b[49m\n\u001b[1;32m     11\u001b[0m model1\u001b[38;5;241m.\u001b[39mkey_metrics()\n\u001b[1;32m     12\u001b[0m model1\u001b[38;5;241m.\u001b[39mplot_prediction()\n",
      "Cell \u001b[0;32mIn[70], line 131\u001b[0m, in \u001b[0;36mLSTM_predictor.predict\u001b[0;34m(self)\u001b[0m\n\u001b[1;32m    129\u001b[0m \u001b[38;5;28;01mdef\u001b[39;00m \u001b[38;5;21mpredict\u001b[39m(\u001b[38;5;28mself\u001b[39m):\n\u001b[1;32m    130\u001b[0m     \u001b[38;5;124;03m\"\"\"Makes predictions using the trained LSTM model.\"\"\"\u001b[39;00m\n\u001b[0;32m--> 131\u001b[0m     \u001b[38;5;28mself\u001b[39m\u001b[38;5;241m.\u001b[39mY_pred \u001b[38;5;241m=\u001b[39m \u001b[38;5;28;43mself\u001b[39;49m\u001b[38;5;241;43m.\u001b[39;49m\u001b[43mmodel\u001b[49m\u001b[38;5;241;43m.\u001b[39;49m\u001b[43mpredict\u001b[49m\u001b[43m(\u001b[49m\u001b[38;5;28;43mself\u001b[39;49m\u001b[38;5;241;43m.\u001b[39;49m\u001b[43mX\u001b[49m\u001b[43m[\u001b[49m\u001b[38;5;241;43m-\u001b[39;49m\u001b[38;5;241;43m4\u001b[39;49m\u001b[43m,\u001b[49m\u001b[43m:\u001b[49m\u001b[43m]\u001b[49m\u001b[43m)\u001b[49m\n",
      "File \u001b[0;32m~/anaconda3/lib/python3.10/site-packages/keras/src/utils/traceback_utils.py:70\u001b[0m, in \u001b[0;36mfilter_traceback.<locals>.error_handler\u001b[0;34m(*args, **kwargs)\u001b[0m\n\u001b[1;32m     67\u001b[0m     filtered_tb \u001b[38;5;241m=\u001b[39m _process_traceback_frames(e\u001b[38;5;241m.\u001b[39m__traceback__)\n\u001b[1;32m     68\u001b[0m     \u001b[38;5;66;03m# To get the full stack trace, call:\u001b[39;00m\n\u001b[1;32m     69\u001b[0m     \u001b[38;5;66;03m# `tf.debugging.disable_traceback_filtering()`\u001b[39;00m\n\u001b[0;32m---> 70\u001b[0m     \u001b[38;5;28;01mraise\u001b[39;00m e\u001b[38;5;241m.\u001b[39mwith_traceback(filtered_tb) \u001b[38;5;28;01mfrom\u001b[39;00m \u001b[38;5;28mNone\u001b[39m\n\u001b[1;32m     71\u001b[0m \u001b[38;5;28;01mfinally\u001b[39;00m:\n\u001b[1;32m     72\u001b[0m     \u001b[38;5;28;01mdel\u001b[39;00m filtered_tb\n",
      "File \u001b[0;32m/var/folders/6r/vlp2qdb177vc7ht4t2mwl8l40000gn/T/__autograph_generated_filem8knlzhk.py:15\u001b[0m, in \u001b[0;36mouter_factory.<locals>.inner_factory.<locals>.tf__predict_function\u001b[0;34m(iterator)\u001b[0m\n\u001b[1;32m     13\u001b[0m \u001b[38;5;28;01mtry\u001b[39;00m:\n\u001b[1;32m     14\u001b[0m     do_return \u001b[38;5;241m=\u001b[39m \u001b[38;5;28;01mTrue\u001b[39;00m\n\u001b[0;32m---> 15\u001b[0m     retval_ \u001b[38;5;241m=\u001b[39m ag__\u001b[38;5;241m.\u001b[39mconverted_call(ag__\u001b[38;5;241m.\u001b[39mld(step_function), (ag__\u001b[38;5;241m.\u001b[39mld(\u001b[38;5;28mself\u001b[39m), ag__\u001b[38;5;241m.\u001b[39mld(iterator)), \u001b[38;5;28;01mNone\u001b[39;00m, fscope)\n\u001b[1;32m     16\u001b[0m \u001b[38;5;28;01mexcept\u001b[39;00m:\n\u001b[1;32m     17\u001b[0m     do_return \u001b[38;5;241m=\u001b[39m \u001b[38;5;28;01mFalse\u001b[39;00m\n",
      "\u001b[0;31mTypeError\u001b[0m: in user code:\n\n    File \"/Users/stevenlee/anaconda3/lib/python3.10/site-packages/keras/src/engine/training.py\", line 2341, in predict_function  *\n        return step_function(self, iterator)\n    File \"/Users/stevenlee/anaconda3/lib/python3.10/site-packages/keras/src/engine/training.py\", line 2327, in step_function  **\n        outputs = model.distribute_strategy.run(run_step, args=(data,))\n    File \"/Users/stevenlee/anaconda3/lib/python3.10/site-packages/keras/src/engine/training.py\", line 2315, in run_step  **\n        outputs = model.predict_step(data)\n    File \"/Users/stevenlee/anaconda3/lib/python3.10/site-packages/keras/src/engine/training.py\", line 2283, in predict_step\n        return self(x, training=False)\n    File \"/Users/stevenlee/anaconda3/lib/python3.10/site-packages/keras/src/utils/traceback_utils.py\", line 70, in error_handler\n        raise e.with_traceback(filtered_tb) from None\n    File \"/Users/stevenlee/anaconda3/lib/python3.10/site-packages/keras/src/layers/rnn/lstm.py\", line 616, in call\n        timesteps = input_shape[0] if self.time_major else input_shape[1]\n\n    TypeError: Exception encountered when calling layer 'lstm_10' (type LSTM).\n    \n    'NoneType' object is not subscriptable\n    \n    Call arguments received by layer 'lstm_10' (type LSTM):\n      • inputs=tf.Tensor(shape=<unknown>, dtype=float32)\n      • mask=None\n      • training=False\n      • initial_state=None\n"
     ]
    }
   ],
   "source": [
    "metrics = run_LSTM(X,Y)"
   ]
  },
  {
   "cell_type": "code",
   "execution_count": null,
   "id": "954ebdbb",
   "metadata": {},
   "outputs": [],
   "source": [
    "metrics"
   ]
  },
  {
   "cell_type": "code",
   "execution_count": null,
   "id": "ba8404fa",
   "metadata": {},
   "outputs": [],
   "source": [
    "#################"
   ]
  },
  {
   "cell_type": "code",
   "execution_count": null,
   "id": "c84d8186",
   "metadata": {
    "executionInfo": {
     "elapsed": 9,
     "status": "ok",
     "timestamp": 1686506042312,
     "user": {
      "displayName": "jennifer claudia gozal",
      "userId": "18064263931893212602"
     },
     "user_tz": -480
    },
    "id": "c84d8186"
   },
   "outputs": [],
   "source": [
    "# Access train loss values\n",
    "train_loss_values = model.cv_train_scores\n",
    "\n",
    "# Access validation loss values\n",
    "val_loss_values = model.cv_val_scores\n",
    "\n",
    "min_val_loss = np.argmin(val_loss_values)+1\n",
    "\n",
    "\n",
    "plt.figure(figsize=(10, 6))\n",
    "# Create a plot of train and test loss\n",
    "plt.plot(np.arange(1,51), train_loss_values, label='Train Loss')\n",
    "plt.plot(np.arange(1,51), val_loss_values, label='Validation Loss')cv_train_scores\n",
    "plt.axvline(x = min_val_loss, ls = '--', c = 'r', label = 'Min Validation Loss')\n",
    "\n",
    "# Set plot labels and title\n",
    "plt.xlabel('Epochs')\n",
    "plt.ylabel('Loss')\n",
    "plt.title('Train and Validation Loss')\n",
    "\n",
    "plt.ylim(0,0.5)\n",
    "plt.xticks(np.arange(1,51,2))\n",
    "\n",
    "# Add legend\n",
    "plt.legend()\n",
    "\n",
    "# Show the plot\n",
    "plt.show()"
   ]
  },
  {
   "cell_type": "code",
   "execution_count": null,
   "id": "7e5a8db2",
   "metadata": {},
   "outputs": [],
   "source": [
    "val_loss_values.min()"
   ]
  },
  {
   "cell_type": "code",
   "execution_count": null,
   "id": "157c719d",
   "metadata": {},
   "outputs": [],
   "source": [
    "model.fit_model(epochs=min_val_loss,batch_size=100)\n",
    "model.predict()\n",
    "model.plot_prediction()\n",
    "model.key_metrics()"
   ]
  },
  {
   "cell_type": "code",
   "execution_count": null,
   "id": "1eb6edf7",
   "metadata": {},
   "outputs": [],
   "source": []
  },
  {
   "cell_type": "code",
   "execution_count": null,
   "id": "a546fef9",
   "metadata": {},
   "outputs": [],
   "source": []
  }
 ],
 "metadata": {
  "accelerator": "GPU",
  "colab": {
   "gpuType": "A100",
   "provenance": []
  },
  "kernelspec": {
   "display_name": "Python 3 (ipykernel)",
   "language": "python",
   "name": "python3"
  },
  "language_info": {
   "codemirror_mode": {
    "name": "ipython",
    "version": 3
   },
   "file_extension": ".py",
   "mimetype": "text/x-python",
   "name": "python",
   "nbconvert_exporter": "python",
   "pygments_lexer": "ipython3",
   "version": "3.7.11"
  }
 },
 "nbformat": 4,
 "nbformat_minor": 5
}
