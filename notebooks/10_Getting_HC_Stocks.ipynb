{
 "cells": [
  {
   "cell_type": "code",
   "execution_count": 17,
   "id": "7254f747",
   "metadata": {},
   "outputs": [],
   "source": [
    "import pandas as pd\n",
    "import numpy as np\n",
    "\n",
    "import warnings\n",
    "warnings.filterwarnings('ignore')"
   ]
  },
  {
   "cell_type": "markdown",
   "id": "1f690351",
   "metadata": {},
   "source": [
    "## Import Data"
   ]
  },
  {
   "cell_type": "code",
   "execution_count": 18,
   "id": "d66d442c",
   "metadata": {
    "scrolled": true
   },
   "outputs": [
    {
     "data": {
      "text/html": [
       "<div>\n",
       "<style scoped>\n",
       "    .dataframe tbody tr th:only-of-type {\n",
       "        vertical-align: middle;\n",
       "    }\n",
       "\n",
       "    .dataframe tbody tr th {\n",
       "        vertical-align: top;\n",
       "    }\n",
       "\n",
       "    .dataframe thead th {\n",
       "        text-align: right;\n",
       "    }\n",
       "</style>\n",
       "<table border=\"1\" class=\"dataframe\">\n",
       "  <thead>\n",
       "    <tr style=\"text-align: right;\">\n",
       "      <th></th>\n",
       "      <th>Ticker</th>\n",
       "      <th>Actual Price</th>\n",
       "      <th>Predicted Price</th>\n",
       "      <th>MSE</th>\n",
       "      <th>MAE</th>\n",
       "      <th>R2</th>\n",
       "      <th>Market Share</th>\n",
       "      <th>marketcap</th>\n",
       "    </tr>\n",
       "  </thead>\n",
       "  <tbody>\n",
       "    <tr>\n",
       "      <th>0</th>\n",
       "      <td>ABDN.L</td>\n",
       "      <td>175.403336</td>\n",
       "      <td>[163.5097]</td>\n",
       "      <td>0.077741</td>\n",
       "      <td>0.278821</td>\n",
       "      <td>1</td>\n",
       "      <td>1899229952</td>\n",
       "      <td>333131268597.699219</td>\n",
       "    </tr>\n",
       "    <tr>\n",
       "      <th>1</th>\n",
       "      <td>BBOX.L</td>\n",
       "      <td>188.927795</td>\n",
       "      <td>[208.25749]</td>\n",
       "      <td>0.279559</td>\n",
       "      <td>0.528733</td>\n",
       "      <td>1</td>\n",
       "      <td>1903740032</td>\n",
       "      <td>359669407279.820312</td>\n",
       "    </tr>\n",
       "  </tbody>\n",
       "</table>\n",
       "</div>"
      ],
      "text/plain": [
       "   Ticker  Actual Price Predicted Price       MSE       MAE  R2  Market Share  \\\n",
       "0  ABDN.L    175.403336      [163.5097]  0.077741  0.278821   1    1899229952   \n",
       "1  BBOX.L    188.927795     [208.25749]  0.279559  0.528733   1    1903740032   \n",
       "\n",
       "             marketcap  \n",
       "0  333131268597.699219  \n",
       "1  359669407279.820312  "
      ]
     },
     "execution_count": 18,
     "metadata": {},
     "output_type": "execute_result"
    }
   ],
   "source": [
    "data = pd.DataFrame(pd.read_csv(\"prediction_result_3days_200622.csv\"))\n",
    "data.iloc[:,-1] = data.iloc[:,-1].str.replace(',', '').astype(float)\n",
    "data.columns = ['Ticker','Actual Price', 'Predicted Price', 'MSE', 'MAE', 'R2',\n",
    "       'Market Share', 'marketcap']\n",
    "data.head(2)"
   ]
  },
  {
   "cell_type": "code",
   "execution_count": 23,
   "id": "80404bad",
   "metadata": {},
   "outputs": [],
   "source": [
    "target_universe = pd.DataFrame(pd.read_excel(\"target_stock_universe.xlsx\", sheet_name = '20220526'))"
   ]
  },
  {
   "cell_type": "code",
   "execution_count": 24,
   "id": "d137b112",
   "metadata": {},
   "outputs": [],
   "source": [
    "target_universe['Ticker'] = target_universe['Ticker'].str.split(' ').str[0]\n",
    "target_universe['Ticker'] = target_universe['Ticker'] + \".L\""
   ]
  },
  {
   "cell_type": "code",
   "execution_count": 25,
   "id": "a14a58db",
   "metadata": {
    "scrolled": false
   },
   "outputs": [],
   "source": [
    "target_universe_list = target_universe.iloc[:,0].to_list()"
   ]
  },
  {
   "cell_type": "code",
   "execution_count": 26,
   "id": "3414bafa",
   "metadata": {},
   "outputs": [
    {
     "data": {
      "text/html": [
       "<div>\n",
       "<style scoped>\n",
       "    .dataframe tbody tr th:only-of-type {\n",
       "        vertical-align: middle;\n",
       "    }\n",
       "\n",
       "    .dataframe tbody tr th {\n",
       "        vertical-align: top;\n",
       "    }\n",
       "\n",
       "    .dataframe thead th {\n",
       "        text-align: right;\n",
       "    }\n",
       "</style>\n",
       "<table border=\"1\" class=\"dataframe\">\n",
       "  <thead>\n",
       "    <tr style=\"text-align: right;\">\n",
       "      <th></th>\n",
       "      <th>Ticker</th>\n",
       "      <th>Name</th>\n",
       "      <th>Weight</th>\n",
       "      <th>Shares</th>\n",
       "      <th>Price</th>\n",
       "      <th>Market Cap</th>\n",
       "      <th>SEDOL</th>\n",
       "      <th>ISIN</th>\n",
       "      <th>Index</th>\n",
       "    </tr>\n",
       "  </thead>\n",
       "  <tbody>\n",
       "    <tr>\n",
       "      <th>0</th>\n",
       "      <td>ICP.L</td>\n",
       "      <td>Intermediate Capital Group PLC</td>\n",
       "      <td>0.206840</td>\n",
       "      <td>277.817407</td>\n",
       "      <td>1457.50</td>\n",
       "      <td>4234802176</td>\n",
       "      <td>BYT1DJ1</td>\n",
       "      <td>GB00BYT1DJ19</td>\n",
       "      <td>FTSE100</td>\n",
       "    </tr>\n",
       "    <tr>\n",
       "      <th>1</th>\n",
       "      <td>ABDN.L</td>\n",
       "      <td>abrdn plc</td>\n",
       "      <td>0.208414</td>\n",
       "      <td>2146.807357</td>\n",
       "      <td>190.05</td>\n",
       "      <td>4144469248</td>\n",
       "      <td>BF8Q6K6</td>\n",
       "      <td>GB00BF8Q6K64</td>\n",
       "      <td>FTSE100</td>\n",
       "    </tr>\n",
       "    <tr>\n",
       "      <th>2</th>\n",
       "      <td>SMDS.L</td>\n",
       "      <td>DS Smith PLC</td>\n",
       "      <td>0.194905</td>\n",
       "      <td>1274.820668</td>\n",
       "      <td>299.30</td>\n",
       "      <td>4118135808</td>\n",
       "      <td>0822011</td>\n",
       "      <td>GB0008220112</td>\n",
       "      <td>FTSE100</td>\n",
       "    </tr>\n",
       "    <tr>\n",
       "      <th>3</th>\n",
       "      <td>DPH.L</td>\n",
       "      <td>Dechra Pharmaceuticals PLC</td>\n",
       "      <td>0.186022</td>\n",
       "      <td>104.825618</td>\n",
       "      <td>3474.00</td>\n",
       "      <td>3765449216</td>\n",
       "      <td>0963318</td>\n",
       "      <td>GB0009633180</td>\n",
       "      <td>FTSE100</td>\n",
       "    </tr>\n",
       "  </tbody>\n",
       "</table>\n",
       "</div>"
      ],
      "text/plain": [
       "   Ticker                            Name    Weight       Shares    Price  \\\n",
       "0   ICP.L  Intermediate Capital Group PLC  0.206840   277.817407  1457.50   \n",
       "1  ABDN.L                       abrdn plc  0.208414  2146.807357   190.05   \n",
       "2  SMDS.L                    DS Smith PLC  0.194905  1274.820668   299.30   \n",
       "3   DPH.L      Dechra Pharmaceuticals PLC  0.186022   104.825618  3474.00   \n",
       "\n",
       "   Market Cap    SEDOL          ISIN    Index  \n",
       "0  4234802176  BYT1DJ1  GB00BYT1DJ19  FTSE100  \n",
       "1  4144469248  BF8Q6K6  GB00BF8Q6K64  FTSE100  \n",
       "2  4118135808  0822011  GB0008220112  FTSE100  \n",
       "3  3765449216  0963318  GB0009633180  FTSE100  "
      ]
     },
     "execution_count": 26,
     "metadata": {},
     "output_type": "execute_result"
    }
   ],
   "source": [
    "target_universe.head(4)"
   ]
  },
  {
   "cell_type": "markdown",
   "id": "afd864a4",
   "metadata": {},
   "source": [
    "## List out stocks that get in and out of FTSE100"
   ]
  },
  {
   "cell_type": "markdown",
   "id": "80a13ce1",
   "metadata": {},
   "source": [
    "in total, there are 35 stocks in consideration. The stocks picked are the bottom 10 from FTSE100 and top 25 from FTSE250. Out of the 35 stocks, 2 stocks (HBR LN Equity & HSV LN Equity) has not enough price data, hence removed from consideration. "
   ]
  },
  {
   "cell_type": "code",
   "execution_count": 27,
   "id": "63004fd4",
   "metadata": {},
   "outputs": [],
   "source": [
    "merged = data.merge(target_universe, how='left', on='Ticker')"
   ]
  },
  {
   "cell_type": "code",
   "execution_count": 55,
   "id": "ae9b7126",
   "metadata": {},
   "outputs": [],
   "source": [
    "merged = merged.sort_values(by='marketcap', ascending = False).reset_index(drop=True)\n",
    "\n",
    "ftse_250 = merged[merged[\"Index\"] =='FTSE250']\n",
    "ftse_100 = merged[merged[\"Index\"] =='FTSE100']\n",
    "\n",
    "# list of stocks that is going into FTSE100\n",
    "stocks_into_FTSE100 = ftse_250[ftse_250.index<ftse_100.index[0]]['Ticker'].to_list()\n",
    "\n",
    "# number of stocks that is going into FTSE100\n",
    "number_of_stocks = len(stocks_into_FTSE100)\n",
    "\n",
    "# list of stocks that is going out from FTSE100\n",
    "stocks_out_from_FTSE100 = ftse_100['Ticker'].tail(number_of_stocks).to_list()"
   ]
  },
  {
   "cell_type": "code",
   "execution_count": 56,
   "id": "6dbce8e7",
   "metadata": {},
   "outputs": [
    {
     "data": {
      "text/plain": [
       "['TUI.L', 'UTG.L', 'CTEC.L']"
      ]
     },
     "execution_count": 56,
     "metadata": {},
     "output_type": "execute_result"
    }
   ],
   "source": [
    "stocks_into_FTSE100 # order from highest market cap"
   ]
  },
  {
   "cell_type": "code",
   "execution_count": 57,
   "id": "a318b85d",
   "metadata": {},
   "outputs": [
    {
     "data": {
      "text/plain": [
       "['ABDN.L', 'IDS.L', 'ITV.L']"
      ]
     },
     "execution_count": 57,
     "metadata": {},
     "output_type": "execute_result"
    }
   ],
   "source": [
    "stocks_out_from_FTSE100 # order from highest market cap"
   ]
  },
  {
   "cell_type": "markdown",
   "id": "412a982a",
   "metadata": {},
   "source": [
    "## import actual result"
   ]
  },
  {
   "cell_type": "code",
   "execution_count": 59,
   "id": "61897e98",
   "metadata": {},
   "outputs": [],
   "source": [
    "actual_result = pd.read_csv('ftse100_rebalancing_summary.csv')"
   ]
  },
  {
   "cell_type": "code",
   "execution_count": null,
   "id": "59cadb8a",
   "metadata": {},
   "outputs": [],
   "source": []
  },
  {
   "cell_type": "markdown",
   "id": "9e37dc2c",
   "metadata": {},
   "source": [
    "## Selecting High Conviction Stocks through Volatility Measurement"
   ]
  },
  {
   "cell_type": "code",
   "execution_count": null,
   "id": "b937ad99",
   "metadata": {},
   "outputs": [],
   "source": [
    "from pandas_datareader import data as pdr\n",
    "import datetime as dt\n",
    "import yfinance as yf\n",
    "\n",
    "yf.pdr_override()\n",
    "\n",
    "stock_ticker = target_universe_list\n",
    "\n",
    "start = dt.datetime(2017, 5, 25)\n",
    "end = dt.datetime(2022, 5, 26)\n",
    "stock_data_raw = pdr.get_data_yahoo(stock_ticker, start = start, end = end)"
   ]
  },
  {
   "cell_type": "code",
   "execution_count": null,
   "id": "c5d90158",
   "metadata": {
    "scrolled": false
   },
   "outputs": [],
   "source": [
    "stock_data = stock_data_raw['Adj Close']"
   ]
  },
  {
   "cell_type": "code",
   "execution_count": null,
   "id": "9b7dcc75",
   "metadata": {},
   "outputs": [],
   "source": [
    "stock_data = stock_data.reset_index()"
   ]
  },
  {
   "cell_type": "markdown",
   "id": "d7481d48",
   "metadata": {},
   "source": [
    "### To model the volatility, we use EWMA, where the weights assigned decrease exponentially as we move back through time"
   ]
  },
  {
   "cell_type": "code",
   "execution_count": null,
   "id": "c7fef7ba",
   "metadata": {},
   "outputs": [],
   "source": [
    "start_date = '2017-05-25'\n",
    "end_date = '2022-05-26'\n",
    "lambda_value = 0.94\n",
    "\n",
    "filtered_data = stock_data[(stock_data['Date'] >= start_date) & (stock_data['Date'] <= end_date)]\n",
    "\n",
    "for stock in stock_ticker:\n",
    "    filtered_data['DailyReturn_' + stock] = filtered_data[stock].pct_change()\n",
    "    filtered_data['EWMA_' + stock] = filtered_data['DailyReturn_' + stock].ewm(span=int(1 / (1 - lambda_value))).mean()"
   ]
  },
  {
   "cell_type": "code",
   "execution_count": null,
   "id": "86cccb8c",
   "metadata": {},
   "outputs": [],
   "source": [
    "volatility_data = []\n",
    "for stock in stock_ticker:\n",
    "    column_name = 'EWMA_' + stock\n",
    "    stock_volatility = filtered_data[column_name].std()\n",
    "    volatility_data.append({'Ticker': stock, 'Volatility': stock_volatility})\n",
    "\n",
    "volatility_df = pd.DataFrame(volatility_data).sort_values(by='Volatility', ascending = False)\n",
    "volatility_df"
   ]
  },
  {
   "cell_type": "code",
   "execution_count": null,
   "id": "a349a53d",
   "metadata": {},
   "outputs": [],
   "source": [
    "start_date = '2022-05-19'\n",
    "end_date = '2022-05-26'\n",
    "lambda_value = 0.94\n",
    "\n",
    "filtered_data = stock_data[(stock_data['Date'] >= start_date) & (stock_data['Date'] <= end_date)]\n",
    "\n",
    "for stock in stock_ticker:\n",
    "    filtered_data['DailyReturn_' + stock] = filtered_data[stock].pct_change()\n",
    "    filtered_data['EWMA_' + stock] = filtered_data['DailyReturn_' + stock].ewm(span=int(1 / (1 - lambda_value))).mean()\n",
    "    \n",
    "volatility_data = []\n",
    "for stock in stock_ticker:\n",
    "    column_name = 'EWMA_' + stock\n",
    "    stock_volatility = filtered_data[column_name].std()\n",
    "    volatility_data.append({'Ticker': stock, 'Volatility': stock_volatility})\n",
    "\n",
    "volatility_df = pd.DataFrame(volatility_data).sort_values(by='Volatility', ascending = False)\n",
    "volatility_df"
   ]
  },
  {
   "cell_type": "code",
   "execution_count": null,
   "id": "1ab0bc80",
   "metadata": {},
   "outputs": [],
   "source": []
  },
  {
   "cell_type": "code",
   "execution_count": null,
   "id": "ae356eda",
   "metadata": {},
   "outputs": [],
   "source": []
  },
  {
   "cell_type": "code",
   "execution_count": null,
   "id": "52894665",
   "metadata": {},
   "outputs": [],
   "source": []
  },
  {
   "cell_type": "code",
   "execution_count": null,
   "id": "86ec1172",
   "metadata": {},
   "outputs": [],
   "source": []
  },
  {
   "cell_type": "code",
   "execution_count": null,
   "id": "dd4dfb23",
   "metadata": {},
   "outputs": [],
   "source": []
  },
  {
   "cell_type": "code",
   "execution_count": null,
   "id": "049b1669",
   "metadata": {},
   "outputs": [],
   "source": []
  }
 ],
 "metadata": {
  "kernelspec": {
   "display_name": "Python 3 (ipykernel)",
   "language": "python",
   "name": "python3"
  },
  "language_info": {
   "codemirror_mode": {
    "name": "ipython",
    "version": 3
   },
   "file_extension": ".py",
   "mimetype": "text/x-python",
   "name": "python",
   "nbconvert_exporter": "python",
   "pygments_lexer": "ipython3",
   "version": "3.10.9"
  }
 },
 "nbformat": 4,
 "nbformat_minor": 5
}
