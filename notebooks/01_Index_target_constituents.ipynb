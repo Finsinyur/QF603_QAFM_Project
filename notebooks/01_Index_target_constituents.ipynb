{
 "cells": [
  {
   "cell_type": "code",
   "execution_count": 1,
   "id": "61e8fb19",
   "metadata": {
    "vscode": {
     "languageId": "r"
    }
   },
   "outputs": [],
   "source": [
    "# Import necessary libraries\n",
    "import numpy as np\n",
    "import pandas as pd\n",
    "from datetime import datetime\n"
   ]
  },
  {
   "cell_type": "markdown",
   "id": "92cb54e3",
   "metadata": {},
   "source": [
    "# Extracting a priori stock targets for index rebalancing arbitrage\n",
    "\n",
    "Data source: Bloomberg for index constitution 1 week prior to rank date.<br>\n",
    "\n",
    "Targeting the FTSE 100 Index, one week prior to rank date we extract the index constitution date to identify bottom x\\% of the FTSE 100 Index as the target stocks for exclusions, and top x\\% of the FTSE 250 Index as the target stocks for inclusions.<br>\n",
    "\n",
    "The reason for using a fixed percentage instead of absolute number is that since FTSE 100 is large cap and FTSE 250 is mid cap, we can expect that in the mid cap the price is more volatile, and thus market cap will be more volatile. So a fixed percentage allows us to consider a wider range of mid cap for target inclusion."
   ]
  },
  {
   "cell_type": "code",
   "execution_count": 2,
   "id": "9df1c486",
   "metadata": {
    "vscode": {
     "languageId": "r"
    }
   },
   "outputs": [],
   "source": [
    "# date pairs\n",
    "dates =\\\n",
    "[\n",
    "    '20220524',\n",
    "    '20220823',\n",
    "    '20221122',\n",
    "    '20230221',\n",
    "    '20230523',\n",
    "]\n"
   ]
  },
  {
   "cell_type": "code",
   "execution_count": 3,
   "id": "61cf8599",
   "metadata": {
    "vscode": {
     "languageId": "r"
    }
   },
   "outputs": [],
   "source": [
    "def get_constituent_list(index, date):\n",
    "    \n",
    "    # Extract dataframe for pre-review data\n",
    "    df =\\\n",
    "    (\n",
    "        pd\n",
    "        .read_excel(\n",
    "            f\"../FTSE/{index}_pre-review.xlsx\", \n",
    "            sheet_name = date\n",
    "        )\n",
    "        .set_index('Ticker')\n",
    "    )\n",
    "    \n",
    "    # Filter out nonsense data\n",
    "    df =\\\n",
    "    (\n",
    "        df[df['Market Cap\\n'] != '--']\n",
    "        .sort_values(by = 'Market Cap\\n', ascending = False)\n",
    "    )\n",
    "    \n",
    "    return df\n"
   ]
  },
  {
   "cell_type": "code",
   "execution_count": 4,
   "id": "8a856455",
   "metadata": {
    "vscode": {
     "languageId": "r"
    }
   },
   "outputs": [],
   "source": [
    "def get_target_stocks(date, pct):\n",
    "    \n",
    "    # Extract required data\n",
    "    ftse100 = get_constituent_list('UKX', date)\n",
    "    ftse100['Index'] = \"FTSE100\"\n",
    "    ftse250 = get_constituent_list('MCX', date)\n",
    "    ftse250['Index'] = \"FTSE250\"\n",
    "    \n",
    "    # Get bottom of FTSE100\n",
    "    bottom_ftse100 =\\\n",
    "    (\n",
    "        ftse100\n",
    "        .tail(int(100*pct))\n",
    "    )\n",
    "    \n",
    "    # Get top of FTSE250\n",
    "    top_ftse250 =\\\n",
    "    (\n",
    "        ftse250\n",
    "        .head(int(250*pct))\n",
    "    )\n",
    "    \n",
    "    # Combine bottoms and tops\n",
    "    target_stocks =\\\n",
    "    (\n",
    "        pd\n",
    "        .concat(\n",
    "            [bottom_ftse100,top_ftse250]\n",
    "        )\n",
    "    )\n",
    "    \n",
    "    target_stocks.columns =\\\n",
    "    [\n",
    "        col.replace('\\n','') for col in target_stocks.columns \n",
    "    ]\n",
    "    \n",
    "    return target_stocks\n",
    "    \n",
    "    "
   ]
  },
  {
   "cell_type": "code",
   "execution_count": 5,
   "id": "75eeb2b9",
   "metadata": {
    "vscode": {
     "languageId": "r"
    }
   },
   "outputs": [],
   "source": [
    "target_stock_universe =\\\n",
    "(\n",
    "    map(\n",
    "        get_target_stocks, \n",
    "        dates, \n",
    "        [0.10]*len(dates)\n",
    "    )\n",
    ")\n",
    "\n",
    "# Write into excel file\n",
    "with pd.ExcelWriter('../output/target_stock_universe.xlsx') as writer:  \n",
    "    for df, date in zip(list(target_stock_universe), dates):\n",
    "        df\\\n",
    "        .to_excel(\n",
    "            writer, \n",
    "            sheet_name = date\n",
    "        )\n",
    "\n"
   ]
  }
 ],
 "metadata": {
  "kernelspec": {
   "display_name": "Python 3 (ipykernel)",
   "language": "python",
   "name": "python3"
  },
  "language_info": {
   "codemirror_mode": {
    "name": "ipython",
    "version": 3
   },
   "file_extension": ".py",
   "mimetype": "text/x-python",
   "name": "python",
   "nbconvert_exporter": "python",
   "pygments_lexer": "ipython3",
   "version": "3.7.11"
  }
 },
 "nbformat": 4,
 "nbformat_minor": 5
}
