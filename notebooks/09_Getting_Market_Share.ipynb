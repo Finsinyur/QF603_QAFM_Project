{
 "cells": [
  {
   "cell_type": "code",
   "execution_count": 2,
   "id": "622d6e47",
   "metadata": {},
   "outputs": [],
   "source": [
    "import pandas as pd\n",
    "import yfinance as yf"
   ]
  },
  {
   "cell_type": "code",
   "execution_count": 3,
   "id": "003b33f1",
   "metadata": {},
   "outputs": [],
   "source": [
    "def extract_sp(stocks, start, end):\n",
    "    def data(ticker):\n",
    "        return(yf.Ticker(ticker).get_shares_full(start= start, end=end))\n",
    "    FAANG_Stock = map(data, stocks)\n",
    "    return(pd.concat(FAANG_Stock,\n",
    "                     keys = stocks,\n",
    "                     names = [\"Company\", \"Date\"]\n",
    "                    )\n",
    "          )"
   ]
  },
  {
   "cell_type": "code",
   "execution_count": 4,
   "id": "a1af88af",
   "metadata": {},
   "outputs": [],
   "source": [
    "tickers = ['AAPL','MSFT']"
   ]
  },
  {
   "cell_type": "code",
   "execution_count": 5,
   "id": "0255c06c",
   "metadata": {},
   "outputs": [],
   "source": [
    "result = extract_sp(tickers,start=\"2019-1-23\", end=\"2019-12-25\")\n",
    "result_df = pd.DataFrame(result, columns = ['Market Share'])\n",
    "result_df = result_df.reset_index().sort_values(by='Date', ascending = False).drop_duplicates(subset='Company', keep='first')"
   ]
  },
  {
   "cell_type": "code",
   "execution_count": 6,
   "id": "5d19b1f4",
   "metadata": {},
   "outputs": [
    {
     "data": {
      "text/html": [
       "<div>\n",
       "<style scoped>\n",
       "    .dataframe tbody tr th:only-of-type {\n",
       "        vertical-align: middle;\n",
       "    }\n",
       "\n",
       "    .dataframe tbody tr th {\n",
       "        vertical-align: top;\n",
       "    }\n",
       "\n",
       "    .dataframe thead th {\n",
       "        text-align: right;\n",
       "    }\n",
       "</style>\n",
       "<table border=\"1\" class=\"dataframe\">\n",
       "  <thead>\n",
       "    <tr style=\"text-align: right;\">\n",
       "      <th></th>\n",
       "      <th>Company</th>\n",
       "      <th>Date</th>\n",
       "      <th>Market Share</th>\n",
       "    </tr>\n",
       "  </thead>\n",
       "  <tbody>\n",
       "    <tr>\n",
       "      <th>71</th>\n",
       "      <td>AAPL</td>\n",
       "      <td>2019-12-24 00:00:00-05:00</td>\n",
       "      <td>4443270144</td>\n",
       "    </tr>\n",
       "    <tr>\n",
       "      <th>203</th>\n",
       "      <td>MSFT</td>\n",
       "      <td>2019-12-19 00:00:00-05:00</td>\n",
       "      <td>7628810240</td>\n",
       "    </tr>\n",
       "  </tbody>\n",
       "</table>\n",
       "</div>"
      ],
      "text/plain": [
       "    Company                      Date  Market Share\n",
       "71     AAPL 2019-12-24 00:00:00-05:00    4443270144\n",
       "203    MSFT 2019-12-19 00:00:00-05:00    7628810240"
      ]
     },
     "execution_count": 6,
     "metadata": {},
     "output_type": "execute_result"
    }
   ],
   "source": [
    "result_df"
   ]
  },
  {
   "cell_type": "code",
   "execution_count": null,
   "id": "a27e1678",
   "metadata": {},
   "outputs": [],
   "source": []
  }
 ],
 "metadata": {
  "kernelspec": {
   "display_name": "Python 3 (ipykernel)",
   "language": "python",
   "name": "python3"
  },
  "language_info": {
   "codemirror_mode": {
    "name": "ipython",
    "version": 3
   },
   "file_extension": ".py",
   "mimetype": "text/x-python",
   "name": "python",
   "nbconvert_exporter": "python",
   "pygments_lexer": "ipython3",
   "version": "3.10.9"
  }
 },
 "nbformat": 4,
 "nbformat_minor": 5
}
