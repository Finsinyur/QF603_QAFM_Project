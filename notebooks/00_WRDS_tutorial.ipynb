{
 "cells": [
  {
   "cell_type": "code",
   "execution_count": null,
   "id": "d5a663e7",
   "metadata": {},
   "outputs": [],
   "source": [
    "# Import WRDS library\n",
    "import wrds\n",
    "import pandas as pd"
   ]
  },
  {
   "cell_type": "markdown",
   "id": "4ada6fd0",
   "metadata": {},
   "source": [
    "## Establish connection to WRDS database\n",
    "\n",
    "We initiate the database connection and assign it as a variable ```db```.<br>\n",
    "Here, we need to key in our username and password.<br>\n",
    "One can create a .pgpass file, but this is not required."
   ]
  },
  {
   "cell_type": "code",
   "execution_count": null,
   "id": "f9dfa14f",
   "metadata": {},
   "outputs": [],
   "source": [
    "# Establish live connection; requires user login (passwords will be masked)\n",
    "db = wrds.Connection()"
   ]
  },
  {
   "cell_type": "markdown",
   "id": "1315f469",
   "metadata": {},
   "source": [
    "## Query libraries available on WRDS"
   ]
  },
  {
   "cell_type": "code",
   "execution_count": null,
   "id": "99f745ab",
   "metadata": {},
   "outputs": [],
   "source": [
    "# Show list of available libraries\n",
    "lib = db.list_libraries()"
   ]
  },
  {
   "cell_type": "code",
   "execution_count": null,
   "id": "7bfee007",
   "metadata": {},
   "outputs": [],
   "source": [
    "print(f'WRDS contains {len(lib)} number of libraries.')"
   ]
  },
  {
   "cell_type": "code",
   "execution_count": null,
   "id": "fdcc5aa1",
   "metadata": {},
   "outputs": [],
   "source": [
    "# Show list of available libraries\n",
    "lib = db.list_libraries()\n",
    "om = [x for x in lib if 'option' in x]\n",
    "om"
   ]
  },
  {
   "cell_type": "markdown",
   "id": "d74dfa53",
   "metadata": {},
   "source": [
    "## Query the tables within a given library\n",
    "\n",
    "Here, we shall explore in a bit more depth what data tables are available in the ```optionm_all``` library."
   ]
  },
  {
   "cell_type": "code",
   "execution_count": null,
   "id": "2cdb0480",
   "metadata": {},
   "outputs": [],
   "source": [
    "# Enquire existing available data tables\n",
    "tables = db.list_tables(library='optionm_all')\n",
    "print('There exists {} tables within the optionm_all library.'.format(len(tables)))\n",
    "tables[0:5]"
   ]
  },
  {
   "cell_type": "markdown",
   "id": "2efe1e7f",
   "metadata": {},
   "source": [
    "# Inspect given data tables\n",
    "\n",
    "Here, we are interested in the following library.table:\n",
    "1. cboe_all.cboe: to obtain VIX index data\n",
    "2. optionm_all.secprd: to obtain S&P500 index data\n",
    "3. optionm_all.opvold: to obtain S&P500 option data\n"
   ]
  },
  {
   "cell_type": "code",
   "execution_count": null,
   "id": "371632a5",
   "metadata": {},
   "outputs": [],
   "source": [
    "db.describe_table(library = 'cboe_all', table = 'cboe' )"
   ]
  },
  {
   "cell_type": "markdown",
   "id": "7f6e0598",
   "metadata": {},
   "source": [
    "The ```cboe_all.cboe``` table contains the OHLC data for multiple volatility indices, including VIX, VNasdaq, VDJIA."
   ]
  },
  {
   "cell_type": "code",
   "execution_count": null,
   "id": "1608728b",
   "metadata": {},
   "outputs": [],
   "source": [
    "db.describe_table(library='optionm_all', table='secprd')"
   ]
  },
  {
   "cell_type": "markdown",
   "id": "9b6d7d7e",
   "metadata": {},
   "source": [
    "for the ```optionm_all.secprd``` table, the key information are: ```secid```, ```date```, ```low```, ```high```, ```close```, ```open```, ```volume```."
   ]
  },
  {
   "cell_type": "code",
   "execution_count": null,
   "id": "425f30a2",
   "metadata": {
    "scrolled": true
   },
   "outputs": [],
   "source": [
    "db.describe_table(library = 'optionm_all', table = 'opvold')"
   ]
  },
  {
   "cell_type": "markdown",
   "id": "738415e6",
   "metadata": {},
   "source": [
    "## Data extraction using SQL query on WRDS"
   ]
  },
  {
   "cell_type": "markdown",
   "id": "7842ab8b",
   "metadata": {},
   "source": [
    "The ```optionm_all.opvold``` table consists of the option volume and open interest, split by ```cp_flag```."
   ]
  },
  {
   "cell_type": "code",
   "execution_count": null,
   "id": "6318a89c",
   "metadata": {},
   "outputs": [],
   "source": [
    "# Get VIX\n",
    "# library = 'cboe_all', table = 'cboe' \n",
    "vix_fn = \"../SQL/get_vix.sql\"\n",
    "\n",
    "# Get S&P 500 Index\n",
    "# S&P 500 index price:  library='optionm_all', table='secprd'\n",
    "spx_fn = \"../SQL/get_spx.sql\"\n",
    "\n",
    "# Get S&P 500 Call, Put options volume and flag\n",
    "# volume: library = optionm_all, table = opvold\n",
    "opvol_fn = \"../SQL/get_option_volume.sql\"\n",
    "\n"
   ]
  },
  {
   "cell_type": "code",
   "execution_count": null,
   "id": "a1bed13a",
   "metadata": {},
   "outputs": [],
   "source": [
    "fd = open(spx_fn, 'r')\n",
    "sqlFile = fd.read()\n",
    "fd.close()\n",
    "\n",
    "print(sqlFile)"
   ]
  },
  {
   "cell_type": "code",
   "execution_count": null,
   "id": "750093a2",
   "metadata": {},
   "outputs": [],
   "source": [
    "def read_sql_script(fname, db, date_cols = ['trading_date']):\n",
    "    fd = open(fname, 'r')\n",
    "    sqlFile = fd.read()\n",
    "    fd.close()\n",
    "\n",
    "    df = db.raw_sql(sqlFile, date_cols=date_cols)\n",
    "\n",
    "    return df"
   ]
  },
  {
   "cell_type": "code",
   "execution_count": null,
   "id": "0bab5a13",
   "metadata": {},
   "outputs": [],
   "source": [
    "df_vix = read_sql_script(vix_fn, db)\n",
    "print('VIX data extracted')\n",
    "\n",
    "df_vix.head()"
   ]
  },
  {
   "cell_type": "code",
   "execution_count": null,
   "id": "bd960da9",
   "metadata": {},
   "outputs": [],
   "source": [
    "df_spx = read_sql_script(spx_fn, db)\n",
    "print('SPX data extracted')\n",
    "\n",
    "df_spx.head()"
   ]
  },
  {
   "cell_type": "code",
   "execution_count": null,
   "id": "6845c814",
   "metadata": {},
   "outputs": [],
   "source": [
    "df_opvol = read_sql_script(opvol_fn, db)\n",
    "print('option volume data extracted')\n",
    "\n",
    "df_opvol.head()"
   ]
  },
  {
   "cell_type": "code",
   "execution_count": null,
   "id": "8a965d01",
   "metadata": {},
   "outputs": [],
   "source": []
  }
 ],
 "metadata": {
  "kernelspec": {
   "display_name": "Python 3 (ipykernel)",
   "language": "python",
   "name": "python3"
  },
  "language_info": {
   "codemirror_mode": {
    "name": "ipython",
    "version": 3
   },
   "file_extension": ".py",
   "mimetype": "text/x-python",
   "name": "python",
   "nbconvert_exporter": "python",
   "pygments_lexer": "ipython3",
   "version": "3.7.11"
  }
 },
 "nbformat": 4,
 "nbformat_minor": 5
}
